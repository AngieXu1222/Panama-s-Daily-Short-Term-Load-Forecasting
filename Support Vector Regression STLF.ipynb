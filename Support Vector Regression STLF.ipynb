{
 "cells": [
  {
   "cell_type": "code",
   "execution_count": 1,
   "metadata": {
    "id": "PiIQC-W_V4O0"
   },
   "outputs": [],
   "source": [
    "import numpy as np\n",
    "import pandas as pd\n",
    "import matplotlib.pyplot as plt\n",
    "from matplotlib import colors as mcolors\n",
    "from scipy import stats\n",
    "import seaborn as sns"
   ]
  },
  {
   "cell_type": "code",
   "execution_count": 10,
   "metadata": {
    "id": "YFtg5zzzV4O3"
   },
   "outputs": [],
   "source": [
    "\n",
    "\n",
    "\n",
    "X_train = pd.read_csv(\"X_train.csv\")\n",
    "y_train = pd.read_csv(\"y_train.csv\")\n",
    "X_test = pd.read_csv(\"X_test.csv\")\n",
    "y_test = pd.read_csv(\"y_test.csv\")"
   ]
  },
  {
   "cell_type": "code",
   "execution_count": 5,
   "metadata": {
    "id": "Nwam0gWWV4O3"
   },
   "outputs": [],
   "source": [
    "from sklearn.model_selection import RandomizedSearchCV\n",
    "from sklearn.model_selection import KFold\n",
    "from sklearn.preprocessing import StandardScaler\n",
    "from sklearn.svm import SVR\n",
    "from sklearn.model_selection import train_test_split\n",
    "from scipy.stats import loguniform"
   ]
  },
  {
   "cell_type": "code",
   "execution_count": 12,
   "metadata": {
    "colab": {
     "base_uri": "https://localhost:8080/",
     "height": 500
    },
    "id": "UU38z_W1V4O3",
    "outputId": "ea89436f-029f-4571-de2c-c1a3045eab63"
   },
   "outputs": [
    {
     "name": "stdout",
     "output_type": "stream",
     "text": [
      "[11:11:12] WARNING: /workspace/src/objective/regression_obj.cu:152: reg:linear is now deprecated in favor of reg:squarederror.\n"
     ]
    },
    {
     "data": {
      "image/png": "[encoded data removed]",
      "text/plain": [
       "<Figure size 864x576 with 1 Axes>"
      ]
     },
     "metadata": {
      "needs_background": "light",
      "tags": []
     },
     "output_type": "display_data"
    }
   ],
   "source": [
    "from xgboost import XGBRegressor\n",
    "selection = XGBRegressor()\n",
    "selection.fit(X_train, y_train)\n",
    "\n",
    "plt.figure(figsize = (12,8))\n",
    "feat_importances = pd.Series(selection.feature_importances_, index=X_train.columns)\n",
    "feat_importances.nlargest(15).plot(kind='barh')\n",
    "plt.show()"
   ]
  },
  {
   "cell_type": "code",
   "execution_count": 6,
   "metadata": {
    "id": "8kZfeq-RV4O5"
   },
   "outputs": [],
   "source": [
    "import numpy as np\n",
    "from sklearn.metrics import r2_score\n",
    "\n",
    "def mape(actual, pred): \n",
    "    actual, pred = np.array(actual), np.array(pred)\n",
    "    return np.mean(np.abs((actual - pred) / actual)) * 100\n",
    "\n",
    "def adj_r2(actual, pred, i):\n",
    "    return 1 - ((1-r2_score(actual,pred))*(len(actual)-1)/(len(actual)-i-1))"
   ]
  },
  {
   "cell_type": "code",
   "execution_count": 7,
   "metadata": {
    "id": "gRee3Wq2V4O5"
   },
   "outputs": [],
   "source": [
    "model = SVR()\n",
    "kernel = [\"linear\", \"rbf\", \"sigmoid\", \"poly\"]\n",
    "tolerance = loguniform(1e-6, 1e-3)\n",
    "C = [1, 1.5, 2, 2.5, 3]\n",
    "grid = dict(kernel=kernel, tol=tolerance, C=C)"
   ]
  },
  {
   "cell_type": "code",
   "execution_count": 8,
   "metadata": {
    "colab": {
     "base_uri": "https://localhost:8080/"
    },
    "id": "6mSmuWcyUxJR",
    "outputId": "840e1c23-334e-421d-e06f-f4ef6ce67656"
   },
   "outputs": [
    {
     "name": "stderr",
     "output_type": "stream",
     "text": [
      "/usr/local/lib/python3.7/dist-packages/sklearn/model_selection/_split.py:296: FutureWarning: Setting a random_state has no effect since shuffle is False. This will raise an error in 0.24. You should leave random_state to its default (None), or set shuffle=True.\n",
      "  FutureWarning\n"
     ]
    }
   ],
   "source": [
    "cvFold = KFold(n_splits=3, random_state=1)\n",
    "svm_random = RandomizedSearchCV(estimator=model, n_jobs=-1,\n",
    "    cv=cvFold, param_distributions=grid,\n",
    "    scoring=\"neg_mean_squared_error\")"
   ]
  },
  {
   "cell_type": "code",
   "execution_count": 13,
   "metadata": {
    "colab": {
     "base_uri": "https://localhost:8080/"
    },
    "id": "eZ0LE2saV4O6",
    "outputId": "6b39b0f8-2db1-4d19-c2a3-0b8fe06ab2be"
   },
   "outputs": [
    {
     "name": "stderr",
     "output_type": "stream",
     "text": [
      "/usr/local/lib/python3.7/dist-packages/sklearn/utils/validation.py:760: DataConversionWarning: A column-vector y was passed when a 1d array was expected. Please change the shape of y to (n_samples, ), for example using ravel().\n",
      "  y = column_or_1d(y, warn=True)\n"
     ]
    },
    {
     "name": "stdout",
     "output_type": "stream",
     "text": [
      "6 features: \n",
      "{'C': 1.5, 'kernel': 'linear', 'tol': 6.29290119389305e-05}\n",
      "RMSE for test set is:  1646.8633793125439\n",
      "RMSE for train set is:  1519.0559356717272\n",
      "Adjusted R2 score for test:  0.4887506156378548\n",
      "Adjusted R2 score for training:  0.5347107661320776\n",
      "MAPE for test:  8.159034048057629\n",
      "MAPE for training:  7.858415212948769\n"
     ]
    }
   ],
   "source": [
    "\n",
    "Xtrain_best = X_train[feat_importances.nlargest(6).index]\n",
    "svm_random.fit(Xtrain_best, y_train)\n",
    "Xtest_best = X_test[feat_importances.nlargest(6).index]\n",
    "    \n",
    "y_pred= svm_random.predict(Xtest_best)\n",
    "\n",
    "y_pred_train = svm_random.predict(Xtrain_best)\n",
    "    \n",
    "from sklearn.metrics import mean_squared_error\n",
    "mse = mean_squared_error(y_test, y_pred)\n",
    "mse_train = mean_squared_error(y_train, y_pred_train)\n",
    "\n",
    "\n",
    "\n",
    "from sklearn.metrics import r2_score\n",
    "print(6,\"features: \")\n",
    "print(svm_random.best_params_)\n",
    "\n",
    "print(\"RMSE for test set is: \",(mse**(1/2)))\n",
    "print(\"RMSE for train set is: \", (mse_train**(1/2)))\n",
    "    \n",
    "r2_adjtest = adj_r2(y_test, y_pred,6)\n",
    "r2_adjtrain = adj_r2(y_train, y_pred_train,6)\n",
    "   \n",
    "print(\"Adjusted R2 score for test: \",r2_adjtest)\n",
    "print(\"Adjusted R2 score for training: \",r2_adjtrain)\n",
    "    \n",
    "mape_test = mape(y_test, y_pred)\n",
    "mape_train = mape(y_train, y_pred_train)\n",
    "    \n",
    "print(\"MAPE for test: \",mape_test)\n",
    "print(\"MAPE for training: \",mape_train)"
   ]
  },
  {
   "cell_type": "code",
   "execution_count": 15,
   "metadata": {
    "colab": {
     "base_uri": "https://localhost:8080/"
    },
    "id": "hbn-max9V4O6",
    "outputId": "d3ea0000-64e4-4e57-e61a-201b67d62033"
   },
   "outputs": [
    {
     "name": "stderr",
     "output_type": "stream",
     "text": [
      "/usr/local/lib/python3.7/dist-packages/sklearn/utils/validation.py:760: DataConversionWarning: A column-vector y was passed when a 1d array was expected. Please change the shape of y to (n_samples, ), for example using ravel().\n",
      "  y = column_or_1d(y, warn=True)\n"
     ]
    },
    {
     "name": "stdout",
     "output_type": "stream",
     "text": [
      "6 features: \n",
      "{'C': 1.5, 'kernel': 'linear', 'tol': 3.7460712002541257e-06}\n",
      "RMSE for test set is:  1638.8250081989977\n",
      "RMSE for train set is:  1500.8146390012203\n",
      "Adjusted R2 score for test:  0.4885099853040791\n",
      "Adjusted R2 score for training:  0.5446721478828087\n",
      "MAPE for test:  8.146439615552207\n",
      "MAPE for training:  7.849364117451758\n"
     ]
    }
   ],
   "source": [
    "Xtrain_best = X_train[feat_importances.nlargest(10).index]\n",
    "svm_random.fit(Xtrain_best, y_train)\n",
    "Xtest_best = X_test[feat_importances.nlargest(10).index]\n",
    "    \n",
    "y_pred= svm_random.predict(Xtest_best)\n",
    "\n",
    "y_pred_train = svm_random.predict(Xtrain_best)\n",
    "    \n",
    "from sklearn.metrics import mean_squared_error\n",
    "mse = mean_squared_error(y_test, y_pred)\n",
    "mse_train = mean_squared_error(y_train, y_pred_train)\n",
    "\n",
    "\n",
    "\n",
    "from sklearn.metrics import r2_score\n",
    "print(6,\"features: \")\n",
    "print(svm_random.best_params_)\n",
    "\n",
    "print(\"RMSE for test set is: \",(mse**(1/2)))\n",
    "print(\"RMSE for train set is: \", (mse_train**(1/2)))\n",
    "    \n",
    "r2_adjtest = adj_r2(y_test, y_pred,10)\n",
    "r2_adjtrain = adj_r2(y_train, y_pred_train,10)\n",
    "   \n",
    "print(\"Adjusted R2 score for test: \",r2_adjtest)\n",
    "print(\"Adjusted R2 score for training: \",r2_adjtrain)\n",
    "    \n",
    "mape_test = mape(y_test, y_pred)\n",
    "mape_train = mape(y_train, y_pred_train)\n",
    "    \n",
    "print(\"MAPE for test: \",mape_test)\n",
    "print(\"MAPE for training: \",mape_train)"
   ]
  },
  {
   "cell_type": "code",
   "execution_count": 17,
   "metadata": {
    "colab": {
     "base_uri": "https://localhost:8080/"
    },
    "id": "8_yUV7jbV4O7",
    "outputId": "169286da-9489-4d78-cb82-bb218d150215"
   },
   "outputs": [
    {
     "name": "stderr",
     "output_type": "stream",
     "text": [
      "/usr/local/lib/python3.7/dist-packages/sklearn/utils/validation.py:760: DataConversionWarning: A column-vector y was passed when a 1d array was expected. Please change the shape of y to (n_samples, ), for example using ravel().\n",
      "  y = column_or_1d(y, warn=True)\n"
     ]
    },
    {
     "name": "stdout",
     "output_type": "stream",
     "text": [
      "10 features: \n",
      "{'C': 2.5, 'kernel': 'linear', 'tol': 6.362524107592032e-05}\n",
      "RMSE for test set is:  1619.4197927678827\n",
      "RMSE for train set is:  1489.9305073401895\n",
      "Adjusted R2 score for test:  0.5005513074145784\n",
      "Adjusted R2 score for training:  0.5512524115442698\n",
      "MAPE for test:  8.239188648626627\n",
      "MAPE for training:  7.942439222007948\n"
     ]
    }
   ],
   "source": [
    "Xtrain_best = X_train[feat_importances.nlargest(10).index]\n",
    "svm_random.fit(Xtrain_best, y_train)\n",
    "Xtest_best = X_test[feat_importances.nlargest(10).index]\n",
    "    \n",
    "y_pred= svm_random.predict(Xtest_best)\n",
    "\n",
    "y_pred_train = svm_random.predict(Xtrain_best)\n",
    "    \n",
    "from sklearn.metrics import mean_squared_error\n",
    "mse = mean_squared_error(y_test, y_pred)\n",
    "mse_train = mean_squared_error(y_train, y_pred_train)\n",
    "\n",
    "\n",
    "\n",
    "from sklearn.metrics import r2_score\n",
    "print(10,\"features: \")\n",
    "print(svm_random.best_params_)\n",
    "\n",
    "print(\"RMSE for test set is: \",(mse**(1/2)))\n",
    "print(\"RMSE for train set is: \", (mse_train**(1/2)))\n",
    "    \n",
    "r2_adjtest = adj_r2(y_test, y_pred,10)\n",
    "r2_adjtrain = adj_r2(y_train, y_pred_train,10)\n",
    "   \n",
    "print(\"Adjusted R2 score for test: \",r2_adjtest)\n",
    "print(\"Adjusted R2 score for training: \",r2_adjtrain)\n",
    "    \n",
    "mape_test = mape(y_test, y_pred)\n",
    "mape_train = mape(y_train, y_pred_train)\n",
    "    \n",
    "print(\"MAPE for test: \",mape_test)\n",
    "print(\"MAPE for training: \",mape_train)"
   ]
  },
  {
   "cell_type": "code",
   "execution_count": 20,
   "metadata": {
    "colab": {
     "base_uri": "https://localhost:8080/"
    },
    "id": "fX4cXzg1V4O7",
    "outputId": "15c782ca-d9b6-4bb2-d67d-3d7a576f82ce"
   },
   "outputs": [
    {
     "name": "stderr",
     "output_type": "stream",
     "text": [
      "/usr/local/lib/python3.7/dist-packages/sklearn/utils/validation.py:760: DataConversionWarning: A column-vector y was passed when a 1d array was expected. Please change the shape of y to (n_samples, ), for example using ravel().\n",
      "  y = column_or_1d(y, warn=True)\n"
     ]
    },
    {
     "name": "stdout",
     "output_type": "stream",
     "text": [
      "12 features: \n",
      "{'C': 3, 'kernel': 'poly', 'tol': 0.0008026410461633671}\n",
      "RMSE for test set is:  2234.0123517809316\n",
      "RMSE for train set is:  2114.5453511010114\n",
      "Adjusted R2 score for test:  0.04459489932765881\n",
      "Adjusted R2 score for training:  0.09499190895096454\n",
      "MAPE for test:  6.842035406552381\n",
      "MAPE for training:  6.447534510924006\n"
     ]
    }
   ],
   "source": [
    "Xtrain_best = X_train[feat_importances.nlargest(12).index]\n",
    "svm_random.fit(Xtrain_best, y_train)\n",
    "Xtest_best = X_test[feat_importances.nlargest(12).index]\n",
    "    \n",
    "y_pred= svm_random.predict(Xtest_best)\n",
    "\n",
    "y_pred_train = svm_random.predict(Xtrain_best)\n",
    "    \n",
    "from sklearn.metrics import mean_squared_error\n",
    "mse = mean_squared_error(y_test, y_pred)\n",
    "mse_train = mean_squared_error(y_train, y_pred_train)\n",
    "\n",
    "\n",
    "\n",
    "from sklearn.metrics import r2_score\n",
    "print(12,\"features: \")\n",
    "print(svm_random.best_params_)\n",
    "\n",
    "print(\"RMSE for test set is: \",(mse**(1/2)))\n",
    "print(\"RMSE for train set is: \", (mse_train**(1/2)))\n",
    "    \n",
    "r2_adjtest = adj_r2(y_test, y_pred,12)\n",
    "r2_adjtrain = adj_r2(y_train, y_pred_train,12)\n",
    "   \n",
    "print(\"Adjusted R2 score for test: \",r2_adjtest)\n",
    "print(\"Adjusted R2 score for training: \",r2_adjtrain)\n",
    "    \n",
    "mape_test = mape(y_test, y_pred)\n",
    "mape_train = mape(y_train, y_pred_train)\n",
    "    \n",
    "print(\"MAPE for test: \",mape_test)\n",
    "print(\"MAPE for training: \",mape_train)"
   ]
  },
  {
   "cell_type": "code",
   "execution_count": 21,
   "metadata": {
    "colab": {
     "base_uri": "https://localhost:8080/"
    },
    "id": "jQ2irOB4V4O8",
    "outputId": "47c1dd2c-1586-49a4-835c-59e9995545d8"
   },
   "outputs": [
    {
     "name": "stderr",
     "output_type": "stream",
     "text": [
      "/usr/local/lib/python3.7/dist-packages/sklearn/utils/validation.py:760: DataConversionWarning: A column-vector y was passed when a 1d array was expected. Please change the shape of y to (n_samples, ), for example using ravel().\n",
      "  y = column_or_1d(y, warn=True)\n"
     ]
    },
    {
     "name": "stdout",
     "output_type": "stream",
     "text": [
      "14 features: \n",
      "{'C': 2.5, 'kernel': 'linear', 'tol': 1.7627670327171164e-06}\n",
      "RMSE for test set is:  1620.8931698083443\n",
      "RMSE for train set is:  1488.4722804871794\n",
      "Adjusted R2 score for test:  0.49443001763756167\n",
      "Adjusted R2 score for training:  0.5509972494456697\n",
      "MAPE for test:  8.307890489852946\n",
      "MAPE for training:  8.019612622959757\n"
     ]
    }
   ],
   "source": [
    "Xtrain_best = X_train[feat_importances.nlargest(14).index]\n",
    "svm_random.fit(Xtrain_best, y_train)\n",
    "Xtest_best = X_test[feat_importances.nlargest(14).index]\n",
    "    \n",
    "y_pred= svm_random.predict(Xtest_best)\n",
    "\n",
    "y_pred_train = svm_random.predict(Xtrain_best)\n",
    "    \n",
    "from sklearn.metrics import mean_squared_error\n",
    "mse = mean_squared_error(y_test, y_pred)\n",
    "mse_train = mean_squared_error(y_train, y_pred_train)\n",
    "\n",
    "\n",
    "\n",
    "from sklearn.metrics import r2_score\n",
    "print(14,\"features: \")\n",
    "print(svm_random.best_params_)\n",
    "\n",
    "print(\"RMSE for test set is: \",(mse**(1/2)))\n",
    "print(\"RMSE for train set is: \", (mse_train**(1/2)))\n",
    "    \n",
    "r2_adjtest = adj_r2(y_test, y_pred,14)\n",
    "r2_adjtrain = adj_r2(y_train, y_pred_train,14)\n",
    "   \n",
    "print(\"Adjusted R2 score for test: \",r2_adjtest)\n",
    "print(\"Adjusted R2 score for training: \",r2_adjtrain)\n",
    "    \n",
    "mape_test = mape(y_test, y_pred)\n",
    "mape_train = mape(y_train, y_pred_train)\n",
    "    \n",
    "print(\"MAPE for test: \",mape_test)\n",
    "print(\"MAPE for training: \",mape_train)"
   ]
  },
  {
   "cell_type": "code",
   "execution_count": 23,
   "metadata": {
    "colab": {
     "base_uri": "https://localhost:8080/"
    },
    "id": "TjzjliN9V4O8",
    "outputId": "37643aaf-f37b-4ef5-e099-71f125ffed34"
   },
   "outputs": [
    {
     "name": "stderr",
     "output_type": "stream",
     "text": [
      "/usr/local/lib/python3.7/dist-packages/sklearn/utils/validation.py:760: DataConversionWarning: A column-vector y was passed when a 1d array was expected. Please change the shape of y to (n_samples, ), for example using ravel().\n",
      "  y = column_or_1d(y, warn=True)\n"
     ]
    },
    {
     "name": "stdout",
     "output_type": "stream",
     "text": [
      "16 features: \n",
      "{'C': 2, 'kernel': 'linear', 'tol': 1.6639648001288952e-06}\n",
      "RMSE for test set is:  1628.7965534644754\n",
      "RMSE for train set is:  1491.2266619083089\n",
      "Adjusted R2 score for test:  0.48681489729638405\n",
      "Adjusted R2 score for training:  0.5487631502007061\n",
      "MAPE for test:  8.293500947687592\n",
      "MAPE for training:  7.999519808033602\n"
     ]
    }
   ],
   "source": [
    "Xtrain_best = X_train[feat_importances.nlargest(16).index]\n",
    "svm_random.fit(Xtrain_best, y_train)\n",
    "Xtest_best = X_test[feat_importances.nlargest(16).index]\n",
    "    \n",
    "y_pred= svm_random.predict(Xtest_best)\n",
    "\n",
    "y_pred_train = svm_random.predict(Xtrain_best)\n",
    "    \n",
    "from sklearn.metrics import mean_squared_error\n",
    "mse = mean_squared_error(y_test, y_pred)\n",
    "mse_train = mean_squared_error(y_train, y_pred_train)\n",
    "\n",
    "\n",
    "\n",
    "from sklearn.metrics import r2_score\n",
    "print(16,\"features: \")\n",
    "print(svm_random.best_params_)\n",
    "\n",
    "print(\"RMSE for test set is: \",(mse**(1/2)))\n",
    "print(\"RMSE for train set is: \", (mse_train**(1/2)))\n",
    "    \n",
    "r2_adjtest = adj_r2(y_test, y_pred,16)\n",
    "r2_adjtrain = adj_r2(y_train, y_pred_train,16)\n",
    "   \n",
    "print(\"Adjusted R2 score for test: \",r2_adjtest)\n",
    "print(\"Adjusted R2 score for training: \",r2_adjtrain)\n",
    "    \n",
    "mape_test = mape(y_test, y_pred)\n",
    "mape_train = mape(y_train, y_pred_train)\n",
    "    \n",
    "print(\"MAPE for test: \",mape_test)\n",
    "print(\"MAPE for training: \",mape_train)"
   ]
  },
  {
   "cell_type": "code",
   "execution_count": 1,
   "metadata": {},
   "outputs": [],
   "source": [
    "#best svr model with 10 parameters"
   ]
  },
  {
   "cell_type": "markdown",
   "metadata": {},
   "source": [
    "# Final Support Vector Regression Model "
   ]
  },
  {
   "cell_type": "code",
   "execution_count": 26,
   "metadata": {
    "colab": {
     "base_uri": "https://localhost:8080/"
    },
    "id": "veOlxYkn7aMA",
    "outputId": "201ccf81-6d8d-4795-dd50-e0b8bc927d93"
   },
   "outputs": [
    {
     "name": "stderr",
     "output_type": "stream",
     "text": [
      "/usr/local/lib/python3.7/dist-packages/sklearn/utils/validation.py:760: DataConversionWarning: A column-vector y was passed when a 1d array was expected. Please change the shape of y to (n_samples, ), for example using ravel().\n",
      "  y = column_or_1d(y, warn=True)\n"
     ]
    },
    {
     "name": "stdout",
     "output_type": "stream",
     "text": [
      "RMSE for test set is:  1619.4197927678827\n",
      "Adjusted R2 score for test:  0.4966594994204063\n",
      "MAPE for test:  8.239188648626627\n"
     ]
    }
   ],
   "source": [
    "from sklearn.svm import SVR\n",
    "\n",
    "regressor = SVR(C=2.5, kernel='linear', tol= 6.362524107592032e-05)\n",
    "\n",
    "Xtrain_best = X_train[feat_importances.nlargest(10).index]\n",
    "regressor.fit(Xtrain_best, y_train)\n",
    "Xtest_best = X_test[feat_importances.nlargest(10).index]\n",
    "    \n",
    "y_pred= regressor.predict(Xtest_best)\n",
    "\n",
    "\n",
    "    \n",
    "from sklearn.metrics import mean_squared_error\n",
    "mse = mean_squared_error(y_test, y_pred)\n",
    "\n",
    "print(\"RMSE for test set is: \",(mse**(1/2)))\n",
    "  \n",
    "r2_adjtest = adj_r2(y_test, y_pred,13)\n",
    "\n",
    "   \n",
    "print(\"Adjusted R2 score for test: \",r2_adjtest)\n",
    "\n",
    "mape_test = mape(y_test, y_pred)\n",
    "\n",
    "print(\"MAPE for test: \",mape_test)"
   ]
  },
  {
   "cell_type": "code",
   "execution_count": 27,
   "metadata": {
    "colab": {
     "base_uri": "https://localhost:8080/",
     "height": 641
    },
    "id": "KFzfPtnA8h7A",
    "outputId": "e20f51a6-9b97-48d5-92a8-69b1b8d64a01"
   },
   "outputs": [
    {
     "data": {
      "text/plain": [
       "<Figure size 1440x1440 with 0 Axes>"
      ]
     },
     "metadata": {
      "tags": []
     },
     "output_type": "display_data"
    },
    {
     "data": {
      "image/png": "[encoded data removed]",
      "text/plain": [
       "<Figure size 864x720 with 1 Axes>"
      ]
     },
     "metadata": {
      "needs_background": "light",
      "tags": []
     },
     "output_type": "display_data"
    }
   ],
   "source": [
    "plt.figure(figsize= (20,20))\n",
    "df = pd.concat([y_test, pd.DataFrame(y_pred)], axis = 1)\n",
    "df.columns = {\"Actual\",\"Predicted\"}\n",
    "\n",
    "df.head(30).plot(kind='bar',figsize=(12,10),color = {\"dodgerblue\",\"lawngreen\"})\n",
    "plt.title(\"ACtual Demand vs Predicted Demand\")\n",
    "plt.xlabel(\"Observations\")\n",
    "plt.ylabel(\"Demand\")\n",
    "plt.show()"
   ]
  }
 ],
 "metadata": {
  "colab": {
   "name": "bc's_code",
   "provenance": []
  },
  "kernelspec": {
   "display_name": "Python 3",
   "language": "python",
   "name": "python3"
  },
  "language_info": {
   "codemirror_mode": {
    "name": "ipython",
    "version": 3
   },
   "file_extension": ".py",
   "mimetype": "text/x-python",
   "name": "python",
   "nbconvert_exporter": "python",
   "pygments_lexer": "ipython3",
   "version": "3.8.3"
  }
 },
 "nbformat": 4,
 "nbformat_minor": 1
}
