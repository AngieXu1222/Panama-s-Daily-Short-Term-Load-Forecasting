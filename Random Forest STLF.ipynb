{
 "cells": [
  {
   "cell_type": "code",
   "execution_count": 1,
   "metadata": {},
   "outputs": [],
   "source": [
    "import numpy as np\n",
    "import pandas as pd\n",
    "import matplotlib.pyplot as plt\n",
    "from matplotlib import colors as mcolors\n",
    "from scipy import stats\n",
    "import seaborn as sns"
   ]
  },
  {
   "cell_type": "code",
   "execution_count": 2,
   "metadata": {},
   "outputs": [],
   "source": [
    "daily_data = pd.read_csv(\"daily_data.csv\")\n",
    "daily_data.set_index(\"date\", inplace = True)\n",
    "\n",
    "X_train = pd.read_csv(\"X_train.csv\")\n",
    "y_train = pd.read_csv(\"y_train.csv\")\n",
    "X_test = pd.read_csv(\"X_test.csv\")\n",
    "y_test = pd.read_csv(\"y_test.csv\")\n"
   ]
  },
  {
   "cell_type": "code",
   "execution_count": 3,
   "metadata": {},
   "outputs": [
    {
     "name": "stderr",
     "output_type": "stream",
     "text": [
      "<ipython-input-3-6e7b1d8df0e1>:4: DataConversionWarning: A column-vector y was passed when a 1d array was expected. Please change the shape of y to (n_samples,), for example using ravel().\n",
      "  selection.fit(X_train, y_train)\n"
     ]
    },
    {
     "data": {
      "image/png": "[encoded data removed]",
      "text/plain": [
       "<Figure size 864x576 with 1 Axes>"
      ]
     },
     "metadata": {
      "needs_background": "light"
     },
     "output_type": "display_data"
    }
   ],
   "source": [
    "from sklearn.ensemble import RandomForestRegressor\n",
    "\n",
    "selection = RandomForestRegressor()\n",
    "selection.fit(X_train, y_train)\n",
    "\n",
    "plt.figure(figsize = (12,8))\n",
    "feat_importances = pd.Series(selection.feature_importances_, index=daily_data.columns[1:])\n",
    "feat_importances.nlargest(15).plot(kind='barh')\n",
    "plt.show()"
   ]
  },
  {
   "cell_type": "code",
   "execution_count": 4,
   "metadata": {},
   "outputs": [],
   "source": [
    "import numpy as np\n",
    "from sklearn.metrics import r2_score\n",
    "\n",
    "def mape(actual, pred): \n",
    "    actual, pred = np.array(actual), np.array(pred)\n",
    "    return np.mean(np.abs((actual - pred) / actual)) * 100\n",
    "\n",
    "def adj_r2(actual, pred, i):\n",
    "    return 1 - ((1-r2_score(actual,pred))*(len(actual)-1)/(len(actual)-i-1))"
   ]
  },
  {
   "cell_type": "code",
   "execution_count": 5,
   "metadata": {},
   "outputs": [],
   "source": [
    "random_grid = {'bootstrap': [True, False],\n",
    " 'max_depth': [10, 20, 30, 40, 50],\n",
    " 'max_features': ['auto', 'sqrt'],\n",
    " 'min_samples_leaf': [1, 2, 4],\n",
    " 'min_samples_split': [2, 5, 10],\n",
    " 'n_estimators': [200, 400, 600, 800, 1000, 1200, 1400, 1600]}\n",
    "\n",
    "rf = RandomForestRegressor()\n",
    "\n",
    "from sklearn.model_selection import RandomizedSearchCV\n",
    "\n",
    "rf_random = RandomizedSearchCV(estimator = rf, param_distributions = random_grid, n_iter = 100, \n",
    "                               cv = 3, verbose=2, random_state=42, n_jobs = -1)"
   ]
  },
  {
   "cell_type": "code",
   "execution_count": 6,
   "metadata": {},
   "outputs": [],
   "source": [
    "from sklearn.metrics import mean_squared_error"
   ]
  },
  {
   "cell_type": "code",
   "execution_count": 7,
   "metadata": {},
   "outputs": [
    {
     "name": "stdout",
     "output_type": "stream",
     "text": [
      "Fitting 3 folds for each of 100 candidates, totalling 300 fits\n"
     ]
    },
    {
     "name": "stderr",
     "output_type": "stream",
     "text": [
      "[Parallel(n_jobs=-1)]: Using backend LokyBackend with 8 concurrent workers.\n",
      "[Parallel(n_jobs=-1)]: Done  25 tasks      | elapsed:   23.9s\n",
      "[Parallel(n_jobs=-1)]: Done 146 tasks      | elapsed:  2.1min\n",
      "[Parallel(n_jobs=-1)]: Done 300 out of 300 | elapsed:  4.0min finished\n",
      "C:\\Users\\ACER\\anaconda3\\lib\\site-packages\\sklearn\\model_selection\\_search.py:765: DataConversionWarning: A column-vector y was passed when a 1d array was expected. Please change the shape of y to (n_samples,), for example using ravel().\n",
      "  self.best_estimator_.fit(X, y, **fit_params)\n"
     ]
    },
    {
     "name": "stdout",
     "output_type": "stream",
     "text": [
      "6 features: \n",
      "{'n_estimators': 1600, 'min_samples_split': 10, 'min_samples_leaf': 2, 'max_features': 'sqrt', 'max_depth': 50, 'bootstrap': True}\n",
      "RMSE for test set is:  1306.5412791925655\n",
      "RMSE for train set is:  836.7827061567605\n",
      "Adjusted R2 score for test:  0.6782163865921862\n",
      "Adjusted R2 score for training:  0.8588109995401074\n",
      "MAPE for test:  8.476469485815393\n",
      "MAPE for training:  8.292950184265012\n",
      "Fitting 3 folds for each of 100 candidates, totalling 300 fits\n"
     ]
    },
    {
     "name": "stderr",
     "output_type": "stream",
     "text": [
      "[Parallel(n_jobs=-1)]: Using backend LokyBackend with 8 concurrent workers.\n",
      "[Parallel(n_jobs=-1)]: Done  25 tasks      | elapsed:   24.2s\n",
      "[Parallel(n_jobs=-1)]: Done 146 tasks      | elapsed:  2.2min\n",
      "[Parallel(n_jobs=-1)]: Done 300 out of 300 | elapsed:  4.2min finished\n",
      "C:\\Users\\ACER\\anaconda3\\lib\\site-packages\\sklearn\\model_selection\\_search.py:765: DataConversionWarning: A column-vector y was passed when a 1d array was expected. Please change the shape of y to (n_samples,), for example using ravel().\n",
      "  self.best_estimator_.fit(X, y, **fit_params)\n"
     ]
    },
    {
     "name": "stdout",
     "output_type": "stream",
     "text": [
      "7 features: \n",
      "{'n_estimators': 1000, 'min_samples_split': 5, 'min_samples_leaf': 1, 'max_features': 'sqrt', 'max_depth': 50, 'bootstrap': True}\n",
      "RMSE for test set is:  1299.6599538334356\n",
      "RMSE for train set is:  600.6684769722315\n",
      "Adjusted R2 score for test:  0.6807826871049791\n",
      "Adjusted R2 score for training:  0.9272021501268077\n",
      "MAPE for test:  8.474200722137224\n",
      "MAPE for training:  8.42527706532957\n",
      "Fitting 3 folds for each of 100 candidates, totalling 300 fits\n"
     ]
    },
    {
     "name": "stderr",
     "output_type": "stream",
     "text": [
      "[Parallel(n_jobs=-1)]: Using backend LokyBackend with 8 concurrent workers.\n",
      "[Parallel(n_jobs=-1)]: Done  25 tasks      | elapsed:   22.4s\n",
      "[Parallel(n_jobs=-1)]: Done 146 tasks      | elapsed:  2.2min\n",
      "[Parallel(n_jobs=-1)]: Done 300 out of 300 | elapsed:  4.2min finished\n",
      "C:\\Users\\ACER\\anaconda3\\lib\\site-packages\\sklearn\\model_selection\\_search.py:765: DataConversionWarning: A column-vector y was passed when a 1d array was expected. Please change the shape of y to (n_samples,), for example using ravel().\n",
      "  self.best_estimator_.fit(X, y, **fit_params)\n"
     ]
    },
    {
     "name": "stdout",
     "output_type": "stream",
     "text": [
      "8 features: \n",
      "{'n_estimators': 1400, 'min_samples_split': 5, 'min_samples_leaf': 1, 'max_features': 'sqrt', 'max_depth': 30, 'bootstrap': True}\n",
      "RMSE for test set is:  1202.176371193233\n",
      "RMSE for train set is:  590.0002174312665\n",
      "Adjusted R2 score for test:  0.7261734917190095\n",
      "Adjusted R2 score for training:  0.9297208038420092\n",
      "MAPE for test:  8.457543298734862\n",
      "MAPE for training:  8.430818975318793\n",
      "Fitting 3 folds for each of 100 candidates, totalling 300 fits\n"
     ]
    },
    {
     "name": "stderr",
     "output_type": "stream",
     "text": [
      "[Parallel(n_jobs=-1)]: Using backend LokyBackend with 8 concurrent workers.\n",
      "[Parallel(n_jobs=-1)]: Done  25 tasks      | elapsed:   23.8s\n",
      "[Parallel(n_jobs=-1)]: Done 146 tasks      | elapsed:  2.2min\n",
      "[Parallel(n_jobs=-1)]: Done 300 out of 300 | elapsed:  4.3min finished\n",
      "C:\\Users\\ACER\\anaconda3\\lib\\site-packages\\sklearn\\model_selection\\_search.py:765: DataConversionWarning: A column-vector y was passed when a 1d array was expected. Please change the shape of y to (n_samples,), for example using ravel().\n",
      "  self.best_estimator_.fit(X, y, **fit_params)\n"
     ]
    },
    {
     "name": "stdout",
     "output_type": "stream",
     "text": [
      "9 features: \n",
      "{'n_estimators': 1200, 'min_samples_split': 10, 'min_samples_leaf': 1, 'max_features': 'sqrt', 'max_depth': 20, 'bootstrap': True}\n",
      "RMSE for test set is:  1143.2034531009704\n",
      "RMSE for train set is:  712.5843708902079\n",
      "Adjusted R2 score for test:  0.7517431879865915\n",
      "Adjusted R2 score for training:  0.8974185647012117\n",
      "MAPE for test:  8.554768205775972\n",
      "MAPE for training:  8.398777827619847\n",
      "Fitting 3 folds for each of 100 candidates, totalling 300 fits\n"
     ]
    },
    {
     "name": "stderr",
     "output_type": "stream",
     "text": [
      "[Parallel(n_jobs=-1)]: Using backend LokyBackend with 8 concurrent workers.\n",
      "[Parallel(n_jobs=-1)]: Done  25 tasks      | elapsed:   23.6s\n",
      "[Parallel(n_jobs=-1)]: Done 146 tasks      | elapsed: 57.6min\n",
      "[Parallel(n_jobs=-1)]: Done 300 out of 300 | elapsed: 59.7min finished\n",
      "C:\\Users\\ACER\\anaconda3\\lib\\site-packages\\sklearn\\model_selection\\_search.py:765: DataConversionWarning: A column-vector y was passed when a 1d array was expected. Please change the shape of y to (n_samples,), for example using ravel().\n",
      "  self.best_estimator_.fit(X, y, **fit_params)\n"
     ]
    },
    {
     "name": "stdout",
     "output_type": "stream",
     "text": [
      "10 features: \n",
      "{'n_estimators': 1400, 'min_samples_split': 5, 'min_samples_leaf': 1, 'max_features': 'sqrt', 'max_depth': 30, 'bootstrap': True}\n",
      "RMSE for test set is:  1141.442000063873\n",
      "RMSE for train set is:  557.8050591443665\n",
      "Adjusted R2 score for test:  0.7518697621014359\n",
      "Adjusted R2 score for training:  0.9371022659228008\n",
      "MAPE for test:  8.56732044674214\n",
      "MAPE for training:  8.496916014224636\n",
      "Fitting 3 folds for each of 100 candidates, totalling 300 fits\n"
     ]
    },
    {
     "name": "stderr",
     "output_type": "stream",
     "text": [
      "[Parallel(n_jobs=-1)]: Using backend LokyBackend with 8 concurrent workers.\n",
      "[Parallel(n_jobs=-1)]: Done  25 tasks      | elapsed:   24.7s\n",
      "[Parallel(n_jobs=-1)]: Done 146 tasks      | elapsed:  2.4min\n",
      "[Parallel(n_jobs=-1)]: Done 300 out of 300 | elapsed:  4.5min finished\n",
      "C:\\Users\\ACER\\anaconda3\\lib\\site-packages\\sklearn\\model_selection\\_search.py:765: DataConversionWarning: A column-vector y was passed when a 1d array was expected. Please change the shape of y to (n_samples,), for example using ravel().\n",
      "  self.best_estimator_.fit(X, y, **fit_params)\n"
     ]
    },
    {
     "name": "stdout",
     "output_type": "stream",
     "text": [
      "11 features: \n",
      "{'n_estimators': 1400, 'min_samples_split': 2, 'min_samples_leaf': 1, 'max_features': 'sqrt', 'max_depth': 50, 'bootstrap': True}\n",
      "RMSE for test set is:  1150.609344131469\n",
      "RMSE for train set is:  406.70511070646\n",
      "Adjusted R2 score for test:  0.747216601426346\n",
      "Adjusted R2 score for training:  0.9665417323293823\n",
      "MAPE for test:  8.553920975916638\n",
      "MAPE for training:  8.59289573312925\n",
      "Fitting 3 folds for each of 100 candidates, totalling 300 fits\n"
     ]
    },
    {
     "name": "stderr",
     "output_type": "stream",
     "text": [
      "[Parallel(n_jobs=-1)]: Using backend LokyBackend with 8 concurrent workers.\n",
      "[Parallel(n_jobs=-1)]: Done  25 tasks      | elapsed:   25.1s\n",
      "[Parallel(n_jobs=-1)]: Done 146 tasks      | elapsed:  2.4min\n",
      "[Parallel(n_jobs=-1)]: Done 300 out of 300 | elapsed:  4.6min finished\n",
      "C:\\Users\\ACER\\anaconda3\\lib\\site-packages\\sklearn\\model_selection\\_search.py:765: DataConversionWarning: A column-vector y was passed when a 1d array was expected. Please change the shape of y to (n_samples,), for example using ravel().\n",
      "  self.best_estimator_.fit(X, y, **fit_params)\n"
     ]
    },
    {
     "name": "stdout",
     "output_type": "stream",
     "text": [
      "12 features: \n",
      "{'n_estimators': 1000, 'min_samples_split': 2, 'min_samples_leaf': 1, 'max_features': 'sqrt', 'max_depth': 20, 'bootstrap': True}\n",
      "RMSE for test set is:  1136.9773567120783\n",
      "RMSE for train set is:  411.049015115754\n",
      "Adjusted R2 score for test:  0.7525314310697959\n",
      "Adjusted R2 score for training:  0.9658016086474437\n",
      "MAPE for test:  8.540873578956242\n",
      "MAPE for training:  8.58318279728662\n",
      "Fitting 3 folds for each of 100 candidates, totalling 300 fits\n"
     ]
    },
    {
     "name": "stderr",
     "output_type": "stream",
     "text": [
      "[Parallel(n_jobs=-1)]: Using backend LokyBackend with 8 concurrent workers.\n",
      "[Parallel(n_jobs=-1)]: Done  25 tasks      | elapsed:   24.1s\n",
      "[Parallel(n_jobs=-1)]: Done 146 tasks      | elapsed:  2.4min\n",
      "[Parallel(n_jobs=-1)]: Done 300 out of 300 | elapsed:  4.5min finished\n",
      "C:\\Users\\ACER\\anaconda3\\lib\\site-packages\\sklearn\\model_selection\\_search.py:765: DataConversionWarning: A column-vector y was passed when a 1d array was expected. Please change the shape of y to (n_samples,), for example using ravel().\n",
      "  self.best_estimator_.fit(X, y, **fit_params)\n"
     ]
    },
    {
     "name": "stdout",
     "output_type": "stream",
     "text": [
      "13 features: \n",
      "{'n_estimators': 1400, 'min_samples_split': 5, 'min_samples_leaf': 1, 'max_features': 'sqrt', 'max_depth': 30, 'bootstrap': True}\n",
      "RMSE for test set is:  1133.417140628378\n",
      "RMSE for train set is:  572.1922239780072\n",
      "Adjusted R2 score for test:  0.7534400444457543\n",
      "Adjusted R2 score for training:  0.9336903412852154\n",
      "MAPE for test:  8.504866943141778\n",
      "MAPE for training:  8.453177856698112\n",
      "Fitting 3 folds for each of 100 candidates, totalling 300 fits\n"
     ]
    },
    {
     "name": "stderr",
     "output_type": "stream",
     "text": [
      "[Parallel(n_jobs=-1)]: Using backend LokyBackend with 8 concurrent workers.\n",
      "[Parallel(n_jobs=-1)]: Done  25 tasks      | elapsed:   23.6s\n",
      "[Parallel(n_jobs=-1)]: Done 146 tasks      | elapsed:  2.4min\n",
      "[Parallel(n_jobs=-1)]: Done 300 out of 300 | elapsed:  4.5min finished\n",
      "C:\\Users\\ACER\\anaconda3\\lib\\site-packages\\sklearn\\model_selection\\_search.py:765: DataConversionWarning: A column-vector y was passed when a 1d array was expected. Please change the shape of y to (n_samples,), for example using ravel().\n",
      "  self.best_estimator_.fit(X, y, **fit_params)\n"
     ]
    },
    {
     "name": "stdout",
     "output_type": "stream",
     "text": [
      "14 features: \n",
      "{'n_estimators': 1400, 'min_samples_split': 2, 'min_samples_leaf': 1, 'max_features': 'sqrt', 'max_depth': 50, 'bootstrap': True}\n",
      "RMSE for test set is:  1139.2823522935596\n",
      "RMSE for train set is:  406.28583006879535\n",
      "Adjusted R2 score for test:  0.7502328972572497\n",
      "Adjusted R2 score for training:  0.9665473250594631\n",
      "MAPE for test:  8.496748777450337\n",
      "MAPE for training:  8.568677197263886\n",
      "Fitting 3 folds for each of 100 candidates, totalling 300 fits\n"
     ]
    },
    {
     "name": "stderr",
     "output_type": "stream",
     "text": [
      "[Parallel(n_jobs=-1)]: Using backend LokyBackend with 8 concurrent workers.\n",
      "[Parallel(n_jobs=-1)]: Done  25 tasks      | elapsed:   23.4s\n",
      "[Parallel(n_jobs=-1)]: Done 146 tasks      | elapsed:  2.3min\n",
      "[Parallel(n_jobs=-1)]: Done 300 out of 300 | elapsed:  4.7min finished\n",
      "C:\\Users\\ACER\\anaconda3\\lib\\site-packages\\sklearn\\model_selection\\_search.py:765: DataConversionWarning: A column-vector y was passed when a 1d array was expected. Please change the shape of y to (n_samples,), for example using ravel().\n",
      "  self.best_estimator_.fit(X, y, **fit_params)\n"
     ]
    },
    {
     "name": "stdout",
     "output_type": "stream",
     "text": [
      "15 features: \n",
      "{'n_estimators': 1000, 'min_samples_split': 2, 'min_samples_leaf': 1, 'max_features': 'sqrt', 'max_depth': 20, 'bootstrap': True}\n",
      "RMSE for test set is:  1140.6115513955162\n",
      "RMSE for train set is:  413.5150366747806\n",
      "Adjusted R2 score for test:  0.7489960954284824\n",
      "Adjusted R2 score for training:  0.9653243273199801\n",
      "MAPE for test:  8.496969801445301\n",
      "MAPE for training:  8.558066694541504\n"
     ]
    }
   ],
   "source": [
    "for i in range(6,16):\n",
    "    Xtrain_best = X_train[feat_importances.nlargest(i).index]\n",
    "    rf_random.fit(Xtrain_best, y_train)\n",
    "    Xtest_best = X_test[feat_importances.nlargest(i).index]\n",
    "    \n",
    "    y_pred= rf_random.predict(Xtest_best)\n",
    "\n",
    "    y_pred_train = rf_random.predict(Xtrain_best)\n",
    "    \n",
    "    from sklearn.metrics import mean_squared_error\n",
    "    mse = mean_squared_error(y_test, y_pred)\n",
    "    mse_train = mean_squared_error(y_train, y_pred_train)\n",
    "\n",
    "\n",
    "\n",
    "    from sklearn.metrics import r2_score\n",
    "    print(i,\"features: \")\n",
    "    print(rf_random.best_params_)\n",
    "\n",
    "    print(\"RMSE for test set is: \",(mse**(1/2)))\n",
    "    print(\"RMSE for train set is: \", (mse_train**(1/2)))\n",
    "    \n",
    "    r2_adjtest = adj_r2(y_test, y_pred,i)\n",
    "    r2_adjtrain = adj_r2(y_train, y_pred_train,i)\n",
    "   \n",
    "    print(\"Adjusted R2 score for test: \",r2_adjtest)\n",
    "    print(\"Adjusted R2 score for training: \",r2_adjtrain)\n",
    "    \n",
    "    mape_test = mape(y_test, y_pred)\n",
    "    mape_train = mape(y_train, y_pred_train)\n",
    "    \n",
    "   \n",
    "    print(\"MAPE for test: \",mape_test)\n",
    "    print(\"MAPE for training: \",mape_train)"
   ]
  },
  {
   "cell_type": "code",
   "execution_count": 8,
   "metadata": {},
   "outputs": [],
   "source": [
    "#Performs best when done with 13 features #but is OVERFIT!!"
   ]
  },
  {
   "cell_type": "code",
   "execution_count": 11,
   "metadata": {},
   "outputs": [
    {
     "name": "stderr",
     "output_type": "stream",
     "text": [
      "<ipython-input-11-e374b4f59264>:5: DataConversionWarning: A column-vector y was passed when a 1d array was expected. Please change the shape of y to (n_samples,), for example using ravel().\n",
      "  regressor.fit(Xtrain_best, y_train)\n"
     ]
    },
    {
     "name": "stdout",
     "output_type": "stream",
     "text": [
      "RMSE for test set is:  1130.408891254331\n",
      "Adjusted R2 score for test:  0.7547471175412795\n",
      "MAPE for test:  8.508699750315238\n"
     ]
    }
   ],
   "source": [
    "\n",
    "regressor = RandomForestRegressor(n_estimators= 1400, min_samples_split=5, \n",
    "                                  min_samples_leaf= 1, max_features='sqrt', max_depth = 30, bootstrap= True)\n",
    "\n",
    "Xtrain_best = X_train[feat_importances.nlargest(13).index]\n",
    "regressor.fit(Xtrain_best, y_train)\n",
    "Xtest_best = X_test[feat_importances.nlargest(13).index]\n",
    "    \n",
    "y_pred= regressor.predict(Xtest_best)\n",
    "\n",
    "\n",
    "    \n",
    "from sklearn.metrics import mean_squared_error\n",
    "mse = mean_squared_error(y_test, y_pred)\n",
    "\n",
    "print(\"RMSE for test set is: \",(mse**(1/2)))\n",
    "  \n",
    "r2_adjtest = adj_r2(y_test, y_pred,13)\n",
    "\n",
    "   \n",
    "print(\"Adjusted R2 score for test: \",r2_adjtest)\n",
    "\n",
    "mape_test = mape(y_test, y_pred)\n",
    "\n",
    "print(\"MAPE for test: \",mape_test)"
   ]
  },
  {
   "cell_type": "code",
   "execution_count": 12,
   "metadata": {},
   "outputs": [
    {
     "data": {
      "text/plain": [
       "<Figure size 1440x1440 with 0 Axes>"
      ]
     },
     "metadata": {},
     "output_type": "display_data"
    },
    {
     "data": {
      "image/png": "[encoded data removed]",
      "text/plain": [
       "<Figure size 864x720 with 1 Axes>"
      ]
     },
     "metadata": {
      "needs_background": "light"
     },
     "output_type": "display_data"
    }
   ],
   "source": [
    "plt.figure(figsize= (20,20))\n",
    "df = pd.concat([y_test, pd.DataFrame(y_pred)], axis = 1)\n",
    "df.columns = {\"Actual\",\"Predicted\"}\n",
    "\n",
    "df.head(30).plot(kind='bar',figsize=(12,10),color = {\"dodgerblue\",\"lawngreen\"})\n",
    "plt.title(\"ACtual Demand vs Predicted Demand\")\n",
    "plt.xlabel(\"Observations\")\n",
    "plt.ylabel(\"Demand\")\n",
    "plt.show()"
   ]
  }
 ],
 "metadata": {
  "kernelspec": {
   "display_name": "Python 3",
   "language": "python",
   "name": "python3"
  },
  "language_info": {
   "codemirror_mode": {
    "name": "ipython",
    "version": 3
   },
   "file_extension": ".py",
   "mimetype": "text/x-python",
   "name": "python",
   "nbconvert_exporter": "python",
   "pygments_lexer": "ipython3",
   "version": "3.8.3"
  }
 },
 "nbformat": 4,
 "nbformat_minor": 4
}
