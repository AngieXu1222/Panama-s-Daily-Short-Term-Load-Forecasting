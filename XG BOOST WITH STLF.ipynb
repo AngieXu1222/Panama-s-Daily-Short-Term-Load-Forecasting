{
 "cells": [
  {
   "cell_type": "code",
   "execution_count": 1,
   "metadata": {},
   "outputs": [],
   "source": [
    "import numpy as np\n",
    "import pandas as pd\n",
    "import matplotlib.pyplot as plt\n",
    "from matplotlib import colors as mcolors\n",
    "from scipy import stats\n",
    "import seaborn as sns"
   ]
  },
  {
   "cell_type": "code",
   "execution_count": 2,
   "metadata": {},
   "outputs": [],
   "source": [
    "daily_data = pd.read_csv(\"daily_data.csv\")\n",
    "daily_data.set_index(\"date\", inplace = True)\n",
    "\n",
    "X_train = pd.read_csv(\"X_train.csv\")\n",
    "y_train = pd.read_csv(\"y_train.csv\")\n",
    "X_test = pd.read_csv(\"X_test.csv\")\n",
    "y_test = pd.read_csv(\"y_test.csv\")"
   ]
  },
  {
   "cell_type": "code",
   "execution_count": 3,
   "metadata": {},
   "outputs": [
    {
     "data": {
      "text/plain": [
       "(1596, 15)"
      ]
     },
     "execution_count": 3,
     "metadata": {},
     "output_type": "execute_result"
    }
   ],
   "source": [
    "X_train.shape"
   ]
  },
  {
   "cell_type": "code",
   "execution_count": 4,
   "metadata": {},
   "outputs": [
    {
     "data": {
      "image/png": "[encoded data removed]",
      "text/plain": [
       "<Figure size 864x576 with 1 Axes>"
      ]
     },
     "metadata": {
      "needs_background": "light"
     },
     "output_type": "display_data"
    }
   ],
   "source": [
    "from xgboost import XGBRegressor\n",
    "selection = XGBRegressor()\n",
    "selection.fit(X_train, y_train)\n",
    "\n",
    "plt.figure(figsize = (12,8))\n",
    "feat_importances = pd.Series(selection.feature_importances_, index=X_train.columns)\n",
    "feat_importances.nlargest(15).plot(kind='barh')\n",
    "plt.show()"
   ]
  },
  {
   "cell_type": "code",
   "execution_count": 5,
   "metadata": {},
   "outputs": [],
   "source": [
    "import numpy as np\n",
    "from sklearn.metrics import r2_score\n",
    "\n",
    "def mape(actual, pred): \n",
    "    actual, pred = np.array(actual), np.array(pred)\n",
    "    return np.mean(np.abs((actual - pred) / actual)) * 100\n",
    "\n",
    "def adj_r2(actual, pred, i):\n",
    "    return 1 - ((1-r2_score(actual,pred))*(len(actual)-1)/(len(actual)-i-1))"
   ]
  },
  {
   "cell_type": "markdown",
   "metadata": {},
   "source": [
    "### XG Boost Model using default params"
   ]
  },
  {
   "cell_type": "code",
   "execution_count": 6,
   "metadata": {},
   "outputs": [
    {
     "data": {
      "text/plain": [
       "XGBRegressor(base_score=0.5, booster='gbtree', colsample_bylevel=1,\n",
       "             colsample_bynode=1, colsample_bytree=1, gamma=0, gpu_id=-1,\n",
       "             importance_type='gain', interaction_constraints='',\n",
       "             learning_rate=0.300000012, max_delta_step=0, max_depth=6,\n",
       "             min_child_weight=1, missing=nan, monotone_constraints='()',\n",
       "             n_estimators=100, n_jobs=8, num_parallel_tree=1, random_state=20,\n",
       "             reg_alpha=0, reg_lambda=1, scale_pos_weight=1, seed=20,\n",
       "             subsample=1, tree_method='exact', validate_parameters=1,\n",
       "             verbosity=None)"
      ]
     },
     "execution_count": 6,
     "metadata": {},
     "output_type": "execute_result"
    }
   ],
   "source": [
    "import xgboost as xgb\n",
    "\n",
    "xgbr = xgb.XGBRegressor(seed = 20)\n",
    "xgbr.fit(X_train, y_train)"
   ]
  },
  {
   "cell_type": "code",
   "execution_count": 7,
   "metadata": {},
   "outputs": [
    {
     "name": "stdout",
     "output_type": "stream",
     "text": [
      "MSE for test set is:  1469559.9362617608\n",
      "MSE for train set is:  68143.2221363972\n",
      "R2 score for test:  0.7271600560020612\n",
      "R2 score for training:  0.9863113270743955\n"
     ]
    }
   ],
   "source": [
    "y_pred= xgbr.predict(X_test)\n",
    "\n",
    "y_pred_train = xgbr.predict(X_train)\n",
    "from sklearn.metrics import mean_squared_error\n",
    "mse = mean_squared_error(y_test, y_pred)\n",
    "mse_train = mean_squared_error(y_train, y_pred_train)\n",
    "\n",
    "\n",
    "\n",
    "from sklearn.metrics import r2_score\n",
    "\n",
    "\n",
    "print(\"MSE for test set is: \",mse)\n",
    "print(\"MSE for train set is: \", mse_train)\n",
    "\n",
    "\n",
    "print(\"R2 score for test: \",r2_score(y_test,y_pred))\n",
    "print(\"R2 score for training: \",r2_score(y_train,y_pred_train))\n",
    "\n"
   ]
  },
  {
   "cell_type": "markdown",
   "metadata": {},
   "source": [
    "### XG Boost Model with  Randomized Search CV parameter tuning"
   ]
  },
  {
   "cell_type": "code",
   "execution_count": 8,
   "metadata": {},
   "outputs": [],
   "source": [
    "import xgboost as xgb\n",
    "from sklearn.model_selection import RandomizedSearchCV\n",
    "    \n",
    "param_dist = {\n",
    "        'n_estimators':range(80,300,5),\n",
    "        'max_depth':range(2,15,1),\n",
    "        'learning_rate':[0.01, 0.1, 0.2, 0.3],\n",
    "        'subsample': np.arange(0.5, 1.0, 0.1),\n",
    "        'colsample_bytree': np.arange(0.4, 1.0, 0.1),\n",
    "        'colsample_bylevel': np.arange(0.4, 1.0, 0.1),\n",
    "        'min_child_weight':range(1,9,1)\n",
    "        }\n",
    "    \n",
    "\n",
    "\n",
    "xg_random = RandomizedSearchCV(estimator=xgbr,param_distributions=param_dist,\n",
    "                               cv = 3,scoring = 'neg_mean_squared_error',n_iter=300,n_jobs = -1,\n",
    "                              verbose=1) "
   ]
  },
  {
   "cell_type": "code",
   "execution_count": 9,
   "metadata": {},
   "outputs": [
    {
     "name": "stdout",
     "output_type": "stream",
     "text": [
      "Fitting 3 folds for each of 300 candidates, totalling 900 fits\n"
     ]
    },
    {
     "name": "stderr",
     "output_type": "stream",
     "text": [
      "[Parallel(n_jobs=-1)]: Using backend LokyBackend with 8 concurrent workers.\n",
      "[Parallel(n_jobs=-1)]: Done  34 tasks      | elapsed:    9.4s\n",
      "[Parallel(n_jobs=-1)]: Done 184 tasks      | elapsed:   30.0s\n",
      "[Parallel(n_jobs=-1)]: Done 434 tasks      | elapsed:  1.0min\n",
      "[Parallel(n_jobs=-1)]: Done 784 tasks      | elapsed:  1.8min\n",
      "[Parallel(n_jobs=-1)]: Done 900 out of 900 | elapsed:  2.0min finished\n"
     ]
    },
    {
     "name": "stdout",
     "output_type": "stream",
     "text": [
      "6 features: \n",
      "{'subsample': 0.6, 'n_estimators': 135, 'min_child_weight': 6, 'max_depth': 9, 'learning_rate': 0.1, 'colsample_bytree': 0.7, 'colsample_bylevel': 0.4}\n",
      "RMSE for test set is:  1233.754753063017\n",
      "RMSE for train set is:  1217.4587860115535\n",
      "Adjusted R2 score for test:  0.7130704145703709\n",
      "Adjusted R2 score for training:  0.7011288408117191\n",
      "MAPE for test:  8.51735781954556\n",
      "MAPE for training:  8.189487697501246\n",
      "Fitting 3 folds for each of 300 candidates, totalling 900 fits\n"
     ]
    },
    {
     "name": "stderr",
     "output_type": "stream",
     "text": [
      "[Parallel(n_jobs=-1)]: Using backend LokyBackend with 8 concurrent workers.\n",
      "[Parallel(n_jobs=-1)]: Done  34 tasks      | elapsed:    5.3s\n",
      "[Parallel(n_jobs=-1)]: Done 184 tasks      | elapsed:   32.8s\n",
      "[Parallel(n_jobs=-1)]: Done 434 tasks      | elapsed:  1.2min\n",
      "[Parallel(n_jobs=-1)]: Done 784 tasks      | elapsed:  2.5min\n",
      "[Parallel(n_jobs=-1)]: Done 900 out of 900 | elapsed:  2.8min finished\n"
     ]
    },
    {
     "name": "stdout",
     "output_type": "stream",
     "text": [
      "7 features: \n",
      "{'subsample': 0.5, 'n_estimators': 85, 'min_child_weight': 5, 'max_depth': 5, 'learning_rate': 0.1, 'colsample_bytree': 0.8999999999999999, 'colsample_bylevel': 0.6}\n",
      "RMSE for test set is:  1221.9556589357899\n",
      "RMSE for train set is:  1045.3818349149708\n",
      "Adjusted R2 score for test:  0.7178124449127186\n",
      "Adjusted R2 score for training:  0.7795049880129916\n",
      "MAPE for test:  8.58593143639988\n",
      "MAPE for training:  8.341659207388231\n",
      "Fitting 3 folds for each of 300 candidates, totalling 900 fits\n"
     ]
    },
    {
     "name": "stderr",
     "output_type": "stream",
     "text": [
      "[Parallel(n_jobs=-1)]: Using backend LokyBackend with 8 concurrent workers.\n",
      "[Parallel(n_jobs=-1)]: Done  34 tasks      | elapsed:    7.2s\n",
      "[Parallel(n_jobs=-1)]: Done 184 tasks      | elapsed:   38.1s\n",
      "[Parallel(n_jobs=-1)]: Done 434 tasks      | elapsed:  1.5min\n",
      "[Parallel(n_jobs=-1)]: Done 784 tasks      | elapsed:  2.7min\n",
      "[Parallel(n_jobs=-1)]: Done 900 out of 900 | elapsed:  3.2min finished\n"
     ]
    },
    {
     "name": "stdout",
     "output_type": "stream",
     "text": [
      "8 features: \n",
      "{'subsample': 0.7, 'n_estimators': 165, 'min_child_weight': 1, 'max_depth': 3, 'learning_rate': 0.1, 'colsample_bytree': 0.7999999999999999, 'colsample_bylevel': 0.8999999999999999}\n",
      "RMSE for test set is:  1222.3790026805864\n",
      "RMSE for train set is:  960.9261569723071\n",
      "Adjusted R2 score for test:  0.7168928253057247\n",
      "Adjusted R2 score for training:  0.8135757207660486\n",
      "MAPE for test:  8.660332974794882\n",
      "MAPE for training:  8.397764575194321\n",
      "Fitting 3 folds for each of 300 candidates, totalling 900 fits\n"
     ]
    },
    {
     "name": "stderr",
     "output_type": "stream",
     "text": [
      "[Parallel(n_jobs=-1)]: Using backend LokyBackend with 8 concurrent workers.\n",
      "[Parallel(n_jobs=-1)]: Done  34 tasks      | elapsed:    4.8s\n",
      "[Parallel(n_jobs=-1)]: Done 184 tasks      | elapsed:   38.9s\n",
      "[Parallel(n_jobs=-1)]: Done 434 tasks      | elapsed:  1.5min\n",
      "[Parallel(n_jobs=-1)]: Done 784 tasks      | elapsed:  2.5min\n",
      "[Parallel(n_jobs=-1)]: Done 900 out of 900 | elapsed:  2.9min finished\n"
     ]
    },
    {
     "name": "stdout",
     "output_type": "stream",
     "text": [
      "9 features: \n",
      "{'subsample': 0.8999999999999999, 'n_estimators': 205, 'min_child_weight': 5, 'max_depth': 3, 'learning_rate': 0.1, 'colsample_bytree': 0.6, 'colsample_bylevel': 0.7}\n",
      "RMSE for test set is:  1206.273335136517\n",
      "RMSE for train set is:  960.8663221584262\n",
      "Adjusted R2 score for test:  0.723595203929918\n",
      "Adjusted R2 score for training:  0.8134814074806682\n",
      "MAPE for test:  8.647979313975267\n",
      "MAPE for training:  8.398915017692683\n",
      "Fitting 3 folds for each of 300 candidates, totalling 900 fits\n"
     ]
    },
    {
     "name": "stderr",
     "output_type": "stream",
     "text": [
      "[Parallel(n_jobs=-1)]: Using backend LokyBackend with 8 concurrent workers.\n",
      "[Parallel(n_jobs=-1)]: Done  34 tasks      | elapsed:    8.0s\n",
      "[Parallel(n_jobs=-1)]: Done 184 tasks      | elapsed:   39.1s\n",
      "[Parallel(n_jobs=-1)]: Done 434 tasks      | elapsed:  1.7min\n",
      "[Parallel(n_jobs=-1)]: Done 784 tasks      | elapsed:  3.1min\n",
      "[Parallel(n_jobs=-1)]: Done 900 out of 900 | elapsed:  3.6min finished\n"
     ]
    },
    {
     "name": "stdout",
     "output_type": "stream",
     "text": [
      "10 features: \n",
      "{'subsample': 0.7, 'n_estimators': 105, 'min_child_weight': 7, 'max_depth': 5, 'learning_rate': 0.1, 'colsample_bytree': 0.5, 'colsample_bylevel': 0.5}\n",
      "RMSE for test set is:  1191.4779949188428\n",
      "RMSE for train set is:  954.11862567356\n",
      "Adjusted R2 score for test:  0.7296389985642565\n",
      "Adjusted R2 score for training:  0.8159758373968027\n",
      "MAPE for test:  8.585408330314865\n",
      "MAPE for training:  8.36146278471112\n",
      "Fitting 3 folds for each of 300 candidates, totalling 900 fits\n"
     ]
    },
    {
     "name": "stderr",
     "output_type": "stream",
     "text": [
      "[Parallel(n_jobs=-1)]: Using backend LokyBackend with 8 concurrent workers.\n",
      "[Parallel(n_jobs=-1)]: Done  34 tasks      | elapsed:    5.9s\n",
      "[Parallel(n_jobs=-1)]: Done 184 tasks      | elapsed:   47.6s\n",
      "[Parallel(n_jobs=-1)]: Done 434 tasks      | elapsed:  1.8min\n",
      "[Parallel(n_jobs=-1)]: Done 784 tasks      | elapsed:  3.3min\n",
      "[Parallel(n_jobs=-1)]: Done 900 out of 900 | elapsed:  3.7min finished\n"
     ]
    },
    {
     "name": "stdout",
     "output_type": "stream",
     "text": [
      "11 features: \n",
      "{'subsample': 0.7, 'n_estimators': 85, 'min_child_weight': 7, 'max_depth': 8, 'learning_rate': 0.1, 'colsample_bytree': 0.8999999999999999, 'colsample_bylevel': 0.5}\n",
      "RMSE for test set is:  1177.9491249809678\n",
      "RMSE for train set is:  696.2573791369279\n",
      "Adjusted R2 score for test:  0.7350610425387879\n",
      "Adjusted R2 score for training:  0.901941823330812\n",
      "MAPE for test:  8.718327591976678\n",
      "MAPE for training:  8.516781112125551\n",
      "Fitting 3 folds for each of 300 candidates, totalling 900 fits\n"
     ]
    },
    {
     "name": "stderr",
     "output_type": "stream",
     "text": [
      "[Parallel(n_jobs=-1)]: Using backend LokyBackend with 8 concurrent workers.\n",
      "[Parallel(n_jobs=-1)]: Done  34 tasks      | elapsed:    7.6s\n",
      "[Parallel(n_jobs=-1)]: Done 184 tasks      | elapsed:   41.7s\n",
      "[Parallel(n_jobs=-1)]: Done 434 tasks      | elapsed:  1.8min\n",
      "[Parallel(n_jobs=-1)]: Done 784 tasks      | elapsed:  3.5min\n",
      "[Parallel(n_jobs=-1)]: Done 900 out of 900 | elapsed:  3.9min finished\n"
     ]
    },
    {
     "name": "stdout",
     "output_type": "stream",
     "text": [
      "12 features: \n",
      "{'subsample': 0.7999999999999999, 'n_estimators': 185, 'min_child_weight': 4, 'max_depth': 4, 'learning_rate': 0.1, 'colsample_bytree': 0.6, 'colsample_bylevel': 0.4}\n",
      "RMSE for test set is:  1115.5914457674496\n",
      "RMSE for train set is:  837.661821944255\n",
      "Adjusted R2 score for test:  0.7617533698433753\n",
      "Adjusted R2 score for training:  0.8579779104277461\n",
      "MAPE for test:  8.792912205547475\n",
      "MAPE for training:  8.470851762702953\n",
      "Fitting 3 folds for each of 300 candidates, totalling 900 fits\n"
     ]
    },
    {
     "name": "stderr",
     "output_type": "stream",
     "text": [
      "[Parallel(n_jobs=-1)]: Using backend LokyBackend with 8 concurrent workers.\n",
      "[Parallel(n_jobs=-1)]: Done  34 tasks      | elapsed:    7.8s\n",
      "[Parallel(n_jobs=-1)]: Done 184 tasks      | elapsed:   51.3s\n",
      "[Parallel(n_jobs=-1)]: Done 434 tasks      | elapsed:  2.0min\n",
      "[Parallel(n_jobs=-1)]: Done 784 tasks      | elapsed:  3.3min\n",
      "[Parallel(n_jobs=-1)]: Done 900 out of 900 | elapsed:  3.7min finished\n"
     ]
    },
    {
     "name": "stdout",
     "output_type": "stream",
     "text": [
      "13 features: \n",
      "{'subsample': 0.7999999999999999, 'n_estimators': 215, 'min_child_weight': 4, 'max_depth': 3, 'learning_rate': 0.1, 'colsample_bytree': 0.8999999999999999, 'colsample_bylevel': 0.4}\n",
      "RMSE for test set is:  1115.02444795215\n",
      "RMSE for train set is:  871.6680929663652\n",
      "Adjusted R2 score for test:  0.7613772917988015\n",
      "Adjusted R2 score for training:  0.8461153901097916\n",
      "MAPE for test:  8.814647265680474\n",
      "MAPE for training:  8.468250780960398\n",
      "Fitting 3 folds for each of 300 candidates, totalling 900 fits\n"
     ]
    },
    {
     "name": "stderr",
     "output_type": "stream",
     "text": [
      "[Parallel(n_jobs=-1)]: Using backend LokyBackend with 8 concurrent workers.\n",
      "[Parallel(n_jobs=-1)]: Done  34 tasks      | elapsed:    9.7s\n",
      "[Parallel(n_jobs=-1)]: Done 184 tasks      | elapsed:   56.1s\n",
      "[Parallel(n_jobs=-1)]: Done 434 tasks      | elapsed:  2.0min\n",
      "[Parallel(n_jobs=-1)]: Done 784 tasks      | elapsed:  3.4min\n",
      "[Parallel(n_jobs=-1)]: Done 900 out of 900 | elapsed:  3.9min finished\n"
     ]
    },
    {
     "name": "stdout",
     "output_type": "stream",
     "text": [
      "14 features: \n",
      "{'subsample': 0.8999999999999999, 'n_estimators': 95, 'min_child_weight': 8, 'max_depth': 9, 'learning_rate': 0.1, 'colsample_bytree': 0.6, 'colsample_bylevel': 0.6}\n",
      "RMSE for test set is:  1162.4507275140006\n",
      "RMSE for train set is:  617.4889549581891\n",
      "Adjusted R2 score for test:  0.7399711093737551\n",
      "Adjusted R2 score for training:  0.9227273357359695\n",
      "MAPE for test:  8.716436659180527\n",
      "MAPE for training:  8.556324470241861\n",
      "Fitting 3 folds for each of 300 candidates, totalling 900 fits\n"
     ]
    },
    {
     "name": "stderr",
     "output_type": "stream",
     "text": [
      "[Parallel(n_jobs=-1)]: Using backend LokyBackend with 8 concurrent workers.\n",
      "[Parallel(n_jobs=-1)]: Done  34 tasks      | elapsed:    9.7s\n",
      "[Parallel(n_jobs=-1)]: Done 184 tasks      | elapsed:   41.8s\n",
      "[Parallel(n_jobs=-1)]: Done 434 tasks      | elapsed:  1.8min\n",
      "[Parallel(n_jobs=-1)]: Done 784 tasks      | elapsed:  3.3min\n",
      "[Parallel(n_jobs=-1)]: Done 900 out of 900 | elapsed:  3.7min finished\n"
     ]
    },
    {
     "name": "stdout",
     "output_type": "stream",
     "text": [
      "15 features: \n",
      "{'subsample': 0.5, 'n_estimators': 135, 'min_child_weight': 8, 'max_depth': 8, 'learning_rate': 0.1, 'colsample_bytree': 0.7999999999999999, 'colsample_bylevel': 0.4}\n",
      "RMSE for test set is:  1152.152135063632\n",
      "RMSE for train set is:  647.238384652739\n",
      "Adjusted R2 score for test:  0.7438911392921506\n",
      "Adjusted R2 score for training:  0.9150485467782448\n",
      "MAPE for test:  8.88487678232568\n",
      "MAPE for training:  8.583807768366201\n"
     ]
    }
   ],
   "source": [
    "for i in range(6,16):\n",
    "    Xtrain_best = X_train[feat_importances.nlargest(i).index]\n",
    "    xg_random.fit(Xtrain_best, y_train)\n",
    "    Xtest_best = X_test[feat_importances.nlargest(i).index]\n",
    "    \n",
    "    y_pred= xg_random.predict(Xtest_best)\n",
    "\n",
    "    y_pred_train = xg_random.predict(Xtrain_best)\n",
    "    \n",
    "    from sklearn.metrics import mean_squared_error\n",
    "    mse = mean_squared_error(y_test, y_pred)\n",
    "    mse_train = mean_squared_error(y_train, y_pred_train)\n",
    "\n",
    "\n",
    "\n",
    "    from sklearn.metrics import r2_score\n",
    "    print(i,\"features: \")\n",
    "    print(xg_random.best_params_)\n",
    "\n",
    "    print(\"RMSE for test set is: \",(mse**(1/2)))\n",
    "    print(\"RMSE for train set is: \", (mse_train**(1/2)))\n",
    "    \n",
    "    r2_adjtest = adj_r2(y_test, y_pred,i)\n",
    "    r2_adjtrain = adj_r2(y_train, y_pred_train,i)\n",
    "   \n",
    "    print(\"Adjusted R2 score for test: \",r2_adjtest)\n",
    "    print(\"Adjusted R2 score for training: \",r2_adjtrain)\n",
    "    \n",
    "    mape_test = mape(y_test, y_pred)\n",
    "    mape_train = mape(y_train, y_pred_train)\n",
    "    \n",
    "   \n",
    "    print(\"MAPE for test: \",mape_test)\n",
    "    print(\"MAPE for training: \",mape_train)\n",
    "    "
   ]
  },
  {
   "cell_type": "code",
   "execution_count": 10,
   "metadata": {},
   "outputs": [],
   "source": [
    "# We Get the best scores and accuracy with 13 features"
   ]
  },
  {
   "cell_type": "markdown",
   "metadata": {},
   "source": [
    "### Final  XG Boost Regression Model"
   ]
  },
  {
   "cell_type": "code",
   "execution_count": 11,
   "metadata": {},
   "outputs": [
    {
     "name": "stdout",
     "output_type": "stream",
     "text": [
      "RMSE for test set is:  1144.9493345593596\n",
      "Adjusted R2 score for test:  0.748397165890295\n",
      "MAPE for test:  8.804296072209432\n"
     ]
    }
   ],
   "source": [
    "import xgboost as xgb\n",
    "\n",
    "regressor = xgb.XGBRegressor(subsample = 0.7999999999999999, n_estimators = 215, min_child_weight = 4, max_depth=3, \n",
    "                             learning_rate= 0.1, colsample_bytree = 0.8999999999999999, colsample_bylevel = 0.4)\n",
    "\n",
    "Xtrain_best = X_train[feat_importances.nlargest(13).index]\n",
    "regressor.fit(Xtrain_best, y_train)\n",
    "Xtest_best = X_test[feat_importances.nlargest(13).index]\n",
    "    \n",
    "y_pred= regressor.predict(Xtest_best)\n",
    "\n",
    "\n",
    "    \n",
    "from sklearn.metrics import mean_squared_error\n",
    "mse = mean_squared_error(y_test, y_pred)\n",
    "\n",
    "print(\"RMSE for test set is: \",(mse**(1/2)))\n",
    "  \n",
    "r2_adjtest = adj_r2(y_test, y_pred,13)\n",
    "\n",
    "   \n",
    "print(\"Adjusted R2 score for test: \",r2_adjtest)\n",
    "\n",
    "mape_test = mape(y_test, y_pred)\n",
    "\n",
    "print(\"MAPE for test: \",mape_test)\n"
   ]
  },
  {
   "cell_type": "code",
   "execution_count": 22,
   "metadata": {},
   "outputs": [
    {
     "data": {
      "text/plain": [
       "<Figure size 1440x1440 with 0 Axes>"
      ]
     },
     "metadata": {},
     "output_type": "display_data"
    },
    {
     "data": {
      "image/png": "[encoded data removed]",
      "text/plain": [
       "<Figure size 864x720 with 1 Axes>"
      ]
     },
     "metadata": {
      "needs_background": "light"
     },
     "output_type": "display_data"
    }
   ],
   "source": [
    "plt.figure(figsize= (20,20))\n",
    "df = pd.concat([y_test, pd.DataFrame(y_pred)], axis = 1)\n",
    "df.columns = {\"Actual\",\"Predicted\"}\n",
    "\n",
    "df.head(30).plot(kind='bar',figsize=(12,10),color = {\"dodgerblue\",\"lawngreen\"})\n",
    "plt.title(\"ACtual Demand vs Predicted Demand\")\n",
    "plt.xlabel(\"Observations\")\n",
    "plt.ylabel(\"Demand\")\n",
    "plt.show()"
   ]
  }
 ],
 "metadata": {
  "kernelspec": {
   "display_name": "Python 3",
   "language": "python",
   "name": "python3"
  },
  "language_info": {
   "codemirror_mode": {
    "name": "ipython",
    "version": 3
   },
   "file_extension": ".py",
   "mimetype": "text/x-python",
   "name": "python",
   "nbconvert_exporter": "python",
   "pygments_lexer": "ipython3",
   "version": "3.8.3"
  }
 },
 "nbformat": 4,
 "nbformat_minor": 4
}
