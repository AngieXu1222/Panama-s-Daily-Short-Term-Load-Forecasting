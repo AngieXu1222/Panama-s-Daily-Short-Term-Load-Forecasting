{
 "cells": [
  {
   "cell_type": "code",
   "execution_count": 1,
   "metadata": {},
   "outputs": [],
   "source": [
    "import numpy as np\n",
    "import pandas as pd\n",
    "import matplotlib.pyplot as plt\n",
    "from matplotlib import colors as mcolors\n",
    "from scipy import stats\n",
    "import seaborn as sns"
   ]
  },
  {
   "cell_type": "code",
   "execution_count": 2,
   "metadata": {},
   "outputs": [],
   "source": [
    "daily_data = pd.read_csv(\"daily_data.csv\")\n",
    "daily_data.set_index(\"date\", inplace = True)\n",
    "\n",
    "X_train = pd.read_csv(\"X_train.csv\")\n",
    "y_train = pd.read_csv(\"y_train.csv\")\n",
    "X_test = pd.read_csv(\"X_test.csv\")\n",
    "y_test = pd.read_csv(\"y_test.csv\")"
   ]
  },
  {
   "cell_type": "code",
   "execution_count": 3,
   "metadata": {},
   "outputs": [
    {
     "data": {
      "image/png": "[encoded data removed]",
      "text/plain": [
       "<Figure size 864x576 with 1 Axes>"
      ]
     },
     "metadata": {
      "needs_background": "light"
     },
     "output_type": "display_data"
    }
   ],
   "source": [
    "from xgboost import XGBRegressor\n",
    "selection = XGBRegressor()\n",
    "selection.fit(X_train, y_train)\n",
    "\n",
    "plt.figure(figsize = (12,8))\n",
    "feat_importances = pd.Series(selection.feature_importances_, index=daily_data.columns[1:])\n",
    "feat_importances.nlargest(15).plot(kind='barh')\n",
    "plt.show()"
   ]
  },
  {
   "cell_type": "code",
   "execution_count": 4,
   "metadata": {},
   "outputs": [],
   "source": [
    "import numpy as np\n",
    "from sklearn.metrics import r2_score\n",
    "\n",
    "def mape(actual, pred): \n",
    "    actual, pred = np.array(actual), np.array(pred)\n",
    "    return np.mean(np.abs((actual - pred) / actual)) * 100\n",
    "\n",
    "def adj_r2(actual, pred, i):\n",
    "    return 1 - ((1-r2_score(actual,pred))*(len(actual)-1)/(len(actual)-i-1))"
   ]
  },
  {
   "cell_type": "code",
   "execution_count": 5,
   "metadata": {},
   "outputs": [],
   "source": [
    "from sklearn.model_selection import RandomizedSearchCV\n",
    "from sklearn.neighbors import KNeighborsRegressor\n",
    "    \n",
    "param_dist = {\n",
    "        'n_neighbors':range(3, 50, 1),\n",
    "        'weights': ['uniform', 'distance'],\n",
    "        'metric':['minkowski', 'euclidean', 'manhattan'],\n",
    "          'leaf_size':range(1, 50, 5)\n",
    "        }\n",
    "\n",
    "knn =  KNeighborsRegressor()\n",
    "\n",
    "knn_random = RandomizedSearchCV(estimator=knn,param_distributions=param_dist,\n",
    "                               cv = 3,n_iter=300,n_jobs = -1,\n",
    "                              verbose=1,random_state = 42)"
   ]
  },
  {
   "cell_type": "code",
   "execution_count": 6,
   "metadata": {},
   "outputs": [
    {
     "name": "stdout",
     "output_type": "stream",
     "text": [
      "Fitting 3 folds for each of 300 candidates, totalling 900 fits\n"
     ]
    },
    {
     "name": "stderr",
     "output_type": "stream",
     "text": [
      "[Parallel(n_jobs=-1)]: Using backend LokyBackend with 8 concurrent workers.\n",
      "[Parallel(n_jobs=-1)]: Done  34 tasks      | elapsed:    2.6s\n",
      "[Parallel(n_jobs=-1)]: Done 864 tasks      | elapsed:    4.7s\n",
      "[Parallel(n_jobs=-1)]: Done 900 out of 900 | elapsed:    4.8s finished\n",
      "[Parallel(n_jobs=-1)]: Using backend LokyBackend with 8 concurrent workers.\n"
     ]
    },
    {
     "name": "stdout",
     "output_type": "stream",
     "text": [
      "6 features: \n",
      "{'weights': 'uniform', 'n_neighbors': 42, 'metric': 'manhattan', 'leaf_size': 46}\n",
      "RMSE for test set is:  1671.6022085890834\n",
      "RMSE for train set is:  1516.6807555214848\n",
      "Adjusted R2 score for test:  0.47327549243890266\n",
      "Adjusted R2 score for training:  0.53616467145477\n",
      "MAPE for test:  4.33540205367225\n",
      "MAPE for training:  4.0592168949301\n",
      "Fitting 3 folds for each of 300 candidates, totalling 900 fits\n"
     ]
    },
    {
     "name": "stderr",
     "output_type": "stream",
     "text": [
      "[Parallel(n_jobs=-1)]: Done  56 tasks      | elapsed:    0.1s\n",
      "[Parallel(n_jobs=-1)]: Done 900 out of 900 | elapsed:    2.1s finished\n",
      "[Parallel(n_jobs=-1)]: Using backend LokyBackend with 8 concurrent workers.\n"
     ]
    },
    {
     "name": "stdout",
     "output_type": "stream",
     "text": [
      "7 features: \n",
      "{'weights': 'uniform', 'n_neighbors': 42, 'metric': 'manhattan', 'leaf_size': 46}\n",
      "RMSE for test set is:  1671.4379361691779\n",
      "RMSE for train set is:  1516.6611793141226\n",
      "Adjusted R2 score for test:  0.47203215560636325\n",
      "Adjusted R2 score for training:  0.5358845648744217\n",
      "MAPE for test:  4.333973238581292\n",
      "MAPE for training:  4.058946611419936\n",
      "Fitting 3 folds for each of 300 candidates, totalling 900 fits\n"
     ]
    },
    {
     "name": "stderr",
     "output_type": "stream",
     "text": [
      "[Parallel(n_jobs=-1)]: Done  56 tasks      | elapsed:    0.1s\n",
      "[Parallel(n_jobs=-1)]: Done 885 out of 900 | elapsed:    2.5s remaining:    0.0s\n",
      "[Parallel(n_jobs=-1)]: Done 900 out of 900 | elapsed:    2.5s finished\n",
      "[Parallel(n_jobs=-1)]: Using backend LokyBackend with 8 concurrent workers.\n"
     ]
    },
    {
     "name": "stdout",
     "output_type": "stream",
     "text": [
      "8 features: \n",
      "{'weights': 'uniform', 'n_neighbors': 42, 'metric': 'manhattan', 'leaf_size': 46}\n",
      "RMSE for test set is:  1671.4379361691779\n",
      "RMSE for train set is:  1516.6611793141226\n",
      "Adjusted R2 score for test:  0.4706783919027898\n",
      "Adjusted R2 score for training:  0.5355921165851176\n",
      "MAPE for test:  4.333973238581292\n",
      "MAPE for training:  4.058946611419936\n",
      "Fitting 3 folds for each of 300 candidates, totalling 900 fits\n"
     ]
    },
    {
     "name": "stderr",
     "output_type": "stream",
     "text": [
      "[Parallel(n_jobs=-1)]: Done  56 tasks      | elapsed:    0.2s\n",
      "[Parallel(n_jobs=-1)]: Done 900 out of 900 | elapsed:    3.3s finished\n",
      "[Parallel(n_jobs=-1)]: Using backend LokyBackend with 8 concurrent workers.\n"
     ]
    },
    {
     "name": "stdout",
     "output_type": "stream",
     "text": [
      "9 features: \n",
      "{'weights': 'uniform', 'n_neighbors': 42, 'metric': 'manhattan', 'leaf_size': 46}\n",
      "RMSE for test set is:  1671.3911441795926\n",
      "RMSE for train set is:  1516.3415941675398\n",
      "Adjusted R2 score for test:  0.4693473805160786\n",
      "Adjusted R2 score for training:  0.5354951188472828\n",
      "MAPE for test:  4.332797520439876\n",
      "MAPE for training:  4.060227520194417\n",
      "Fitting 3 folds for each of 300 candidates, totalling 900 fits\n"
     ]
    },
    {
     "name": "stderr",
     "output_type": "stream",
     "text": [
      "[Parallel(n_jobs=-1)]: Done  56 tasks      | elapsed:    0.3s\n",
      "[Parallel(n_jobs=-1)]: Done 885 out of 900 | elapsed:    3.6s remaining:    0.0s\n",
      "[Parallel(n_jobs=-1)]: Done 900 out of 900 | elapsed:    3.7s finished\n",
      "[Parallel(n_jobs=-1)]: Using backend LokyBackend with 8 concurrent workers.\n"
     ]
    },
    {
     "name": "stdout",
     "output_type": "stream",
     "text": [
      "10 features: \n",
      "{'weights': 'uniform', 'n_neighbors': 43, 'metric': 'minkowski', 'leaf_size': 46}\n",
      "RMSE for test set is:  1674.3734168297233\n",
      "RMSE for train set is:  1516.9035044390766\n",
      "Adjusted R2 score for test:  0.46607945172922893\n",
      "Adjusted R2 score for training:  0.534857511920958\n",
      "MAPE for test:  4.339453785318768\n",
      "MAPE for training:  4.0598960996508255\n",
      "Fitting 3 folds for each of 300 candidates, totalling 900 fits\n"
     ]
    },
    {
     "name": "stderr",
     "output_type": "stream",
     "text": [
      "[Parallel(n_jobs=-1)]: Done  56 tasks      | elapsed:    0.3s\n",
      "[Parallel(n_jobs=-1)]: Done 656 tasks      | elapsed:    2.8s\n",
      "[Parallel(n_jobs=-1)]: Done 885 out of 900 | elapsed:    3.8s remaining:    0.0s\n",
      "[Parallel(n_jobs=-1)]: Done 900 out of 900 | elapsed:    3.9s finished\n",
      "[Parallel(n_jobs=-1)]: Using backend LokyBackend with 8 concurrent workers.\n"
     ]
    },
    {
     "name": "stdout",
     "output_type": "stream",
     "text": [
      "11 features: \n",
      "{'weights': 'uniform', 'n_neighbors': 43, 'metric': 'minkowski', 'leaf_size': 46}\n",
      "RMSE for test set is:  1674.3732279568744\n",
      "RMSE for train set is:  1516.9091129442722\n",
      "Adjusted R2 score for test:  0.4646999328355854\n",
      "Adjusted R2 score for training:  0.5345604196043565\n",
      "MAPE for test:  4.339393625473384\n",
      "MAPE for training:  4.05989623791094\n",
      "Fitting 3 folds for each of 300 candidates, totalling 900 fits\n"
     ]
    },
    {
     "name": "stderr",
     "output_type": "stream",
     "text": [
      "[Parallel(n_jobs=-1)]: Done  58 tasks      | elapsed:    0.2s\n",
      "[Parallel(n_jobs=-1)]: Done 885 out of 900 | elapsed:    4.2s remaining:    0.0s\n",
      "[Parallel(n_jobs=-1)]: Done 900 out of 900 | elapsed:    4.3s finished\n"
     ]
    },
    {
     "name": "stdout",
     "output_type": "stream",
     "text": [
      "12 features: \n",
      "{'weights': 'uniform', 'n_neighbors': 43, 'metric': 'minkowski', 'leaf_size': 46}\n",
      "RMSE for test set is:  1674.3732279568744\n",
      "RMSE for train set is:  1516.9091129442722\n",
      "Adjusted R2 score for test:  0.46331314509681754\n",
      "Adjusted R2 score for training:  0.534266395864372\n",
      "MAPE for test:  4.339393625473384\n",
      "MAPE for training:  4.05989623791094\n",
      "Fitting 3 folds for each of 300 candidates, totalling 900 fits\n"
     ]
    },
    {
     "name": "stderr",
     "output_type": "stream",
     "text": [
      "[Parallel(n_jobs=-1)]: Using backend LokyBackend with 8 concurrent workers.\n",
      "[Parallel(n_jobs=-1)]: Done  58 tasks      | elapsed:    0.3s\n",
      "[Parallel(n_jobs=-1)]: Done 885 out of 900 | elapsed:    3.6s remaining:    0.0s\n",
      "[Parallel(n_jobs=-1)]: Done 900 out of 900 | elapsed:    3.7s finished\n",
      "[Parallel(n_jobs=-1)]: Using backend LokyBackend with 8 concurrent workers.\n"
     ]
    },
    {
     "name": "stdout",
     "output_type": "stream",
     "text": [
      "13 features: \n",
      "{'weights': 'uniform', 'n_neighbors': 43, 'metric': 'minkowski', 'leaf_size': 46}\n",
      "RMSE for test set is:  1674.3732279568744\n",
      "RMSE for train set is:  1516.9145911499074\n",
      "Adjusted R2 score for test:  0.46191915326590016\n",
      "Adjusted R2 score for training:  0.5339686343552277\n",
      "MAPE for test:  4.339393625473384\n",
      "MAPE for training:  4.05990860486858\n",
      "Fitting 3 folds for each of 300 candidates, totalling 900 fits\n"
     ]
    },
    {
     "name": "stderr",
     "output_type": "stream",
     "text": [
      "[Parallel(n_jobs=-1)]: Done  58 tasks      | elapsed:    0.3s\n",
      "[Parallel(n_jobs=-1)]: Done 656 tasks      | elapsed:    3.1s\n",
      "[Parallel(n_jobs=-1)]: Done 885 out of 900 | elapsed:    4.2s remaining:    0.0s\n",
      "[Parallel(n_jobs=-1)]: Done 900 out of 900 | elapsed:    4.3s finished\n",
      "[Parallel(n_jobs=-1)]: Using backend LokyBackend with 8 concurrent workers.\n"
     ]
    },
    {
     "name": "stdout",
     "output_type": "stream",
     "text": [
      "14 features: \n",
      "{'weights': 'uniform', 'n_neighbors': 43, 'metric': 'minkowski', 'leaf_size': 46}\n",
      "RMSE for test set is:  1674.3732279568744\n",
      "RMSE for train set is:  1516.9145911499074\n",
      "Adjusted R2 score for test:  0.46051790106086343\n",
      "Adjusted R2 score for training:  0.5336738643579824\n",
      "MAPE for test:  4.339393625473384\n",
      "MAPE for training:  4.05990860486858\n",
      "Fitting 3 folds for each of 300 candidates, totalling 900 fits\n"
     ]
    },
    {
     "name": "stderr",
     "output_type": "stream",
     "text": [
      "[Parallel(n_jobs=-1)]: Done  56 tasks      | elapsed:    0.3s\n"
     ]
    },
    {
     "name": "stdout",
     "output_type": "stream",
     "text": [
      "15 features: \n",
      "{'weights': 'uniform', 'n_neighbors': 44, 'metric': 'manhattan', 'leaf_size': 16}\n",
      "RMSE for test set is:  1674.7314705574674\n",
      "RMSE for train set is:  1517.438043470693\n",
      "Adjusted R2 score for test:  0.4588778529838705\n",
      "Adjusted R2 score for training:  0.5330566251373323\n",
      "MAPE for test:  4.332888141845821\n",
      "MAPE for training:  4.060815048275428\n"
     ]
    },
    {
     "name": "stderr",
     "output_type": "stream",
     "text": [
      "[Parallel(n_jobs=-1)]: Done 900 out of 900 | elapsed:    4.1s finished\n"
     ]
    }
   ],
   "source": [
    "\n",
    "for i in range(6,16):\n",
    "    Xtrain_best = X_train[feat_importances.nlargest(i).index]\n",
    "    knn_random.fit(Xtrain_best, y_train)\n",
    "    Xtest_best = X_test[feat_importances.nlargest(i).index]\n",
    "    \n",
    "    y_pred= knn_random.predict(Xtest_best)\n",
    "\n",
    "    y_pred_train = knn_random.predict(Xtrain_best)\n",
    "    \n",
    "    from sklearn.metrics import mean_squared_error\n",
    "    mse = mean_squared_error(y_test, y_pred)\n",
    "    mse_train = mean_squared_error(y_train, y_pred_train)\n",
    "\n",
    "\n",
    "\n",
    "    from sklearn.metrics import r2_score\n",
    "    print(i,\"features: \")\n",
    "    print(knn_random.best_params_)\n",
    "\n",
    "    print(\"RMSE for test set is: \",(mse**(1/2)))\n",
    "    print(\"RMSE for train set is: \", (mse_train**(1/2)))\n",
    "    \n",
    "    r2_adjtest = adj_r2(y_test, y_pred,i)\n",
    "    r2_adjtrain = adj_r2(y_train, y_pred_train,i)\n",
    "   \n",
    "    print(\"Adjusted R2 score for test: \",r2_adjtest)\n",
    "    print(\"Adjusted R2 score for training: \",r2_adjtrain)\n",
    "    \n",
    "    mape_test = mape(y_test, y_pred)\n",
    "    mape_train = mape(y_train, y_pred_train)\n",
    "    \n",
    "   \n",
    "    print(\"MAPE for test: \",mape_test)\n",
    "    print(\"MAPE for training: \",mape_train)\n",
    "    "
   ]
  },
  {
   "cell_type": "code",
   "execution_count": 7,
   "metadata": {},
   "outputs": [],
   "source": [
    "#We get the best results with 6 features"
   ]
  },
  {
   "cell_type": "markdown",
   "metadata": {},
   "source": [
    "### Final KNN Regression model"
   ]
  },
  {
   "cell_type": "code",
   "execution_count": 8,
   "metadata": {},
   "outputs": [
    {
     "name": "stdout",
     "output_type": "stream",
     "text": [
      "RMSE for test set is:  1671.6022085890834\n",
      "Adjusted R2 score for test:  0.47327549243890266\n",
      "MAPE for test:  4.33540205367225\n"
     ]
    }
   ],
   "source": [
    "\n",
    "\n",
    "regressor = KNeighborsRegressor(weights= 'uniform', n_neighbors= 42, metric='manhattan', leaf_size= 46)\n",
    "\n",
    "Xtrain_best = X_train[feat_importances.nlargest(6).index]\n",
    "regressor.fit(Xtrain_best, y_train)\n",
    "Xtest_best = X_test[feat_importances.nlargest(6).index]\n",
    "    \n",
    "y_pred= regressor.predict(Xtest_best)\n",
    "\n",
    "\n",
    "    \n",
    "from sklearn.metrics import mean_squared_error\n",
    "mse = mean_squared_error(y_test, y_pred)\n",
    "\n",
    "print(\"RMSE for test set is: \",(mse**(1/2)))\n",
    "  \n",
    "r2_adjtest = adj_r2(y_test, y_pred,6)\n",
    "\n",
    "   \n",
    "print(\"Adjusted R2 score for test: \",r2_adjtest)\n",
    "\n",
    "mape_test = mape(y_test, y_pred)\n",
    "\n",
    "print(\"MAPE for test: \",mape_test)"
   ]
  },
  {
   "cell_type": "code",
   "execution_count": 9,
   "metadata": {},
   "outputs": [
    {
     "data": {
      "text/plain": [
       "<Figure size 1440x1440 with 0 Axes>"
      ]
     },
     "metadata": {},
     "output_type": "display_data"
    },
    {
     "data": {
      "image/png": "[encoded data removed]",
      "text/plain": [
       "<Figure size 864x720 with 1 Axes>"
      ]
     },
     "metadata": {
      "needs_background": "light"
     },
     "output_type": "display_data"
    }
   ],
   "source": [
    "plt.figure(figsize= (20,20))\n",
    "df = pd.concat([y_test, pd.DataFrame(y_pred)], axis = 1)\n",
    "df.columns = {\"Actual\",\"Predicted\"}\n",
    "\n",
    "df.head(30).plot(kind='bar',figsize=(12,10),color = {\"dodgerblue\",\"lawngreen\"})\n",
    "plt.title(\"ACtual Demand vs Predicted Demand\")\n",
    "plt.xlabel(\"Observations\")\n",
    "plt.ylabel(\"Demand\")\n",
    "plt.show()"
   ]
  }
 ],
 "metadata": {
  "kernelspec": {
   "display_name": "Python 3",
   "language": "python",
   "name": "python3"
  },
  "language_info": {
   "codemirror_mode": {
    "name": "ipython",
    "version": 3
   },
   "file_extension": ".py",
   "mimetype": "text/x-python",
   "name": "python",
   "nbconvert_exporter": "python",
   "pygments_lexer": "ipython3",
   "version": "3.8.3"
  }
 },
 "nbformat": 4,
 "nbformat_minor": 4
}
