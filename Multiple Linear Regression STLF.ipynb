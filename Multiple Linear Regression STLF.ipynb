{
 "cells": [
  {
   "cell_type": "code",
   "execution_count": 1,
   "metadata": {},
   "outputs": [],
   "source": [
    "import numpy as np\n",
    "import pandas as pd\n",
    "import matplotlib.pyplot as plt\n",
    "from matplotlib import colors as mcolors\n",
    "from scipy import stats\n",
    "import seaborn as sns"
   ]
  },
  {
   "cell_type": "code",
   "execution_count": 2,
   "metadata": {},
   "outputs": [],
   "source": [
    "daily_data = pd.read_csv(\"daily_data.csv\")\n",
    "daily_data.set_index(\"date\", inplace = True)\n",
    "\n",
    "X_train = pd.read_csv(\"X_train.csv\")\n",
    "y_train = pd.read_csv(\"y_train.csv\")\n",
    "X_test = pd.read_csv(\"X_test.csv\")\n",
    "y_test = pd.read_csv(\"y_test.csv\")"
   ]
  },
  {
   "cell_type": "code",
   "execution_count": 3,
   "metadata": {},
   "outputs": [
    {
     "data": {
      "image/png": "[encoded data removed]",
      "text/plain": [
       "<Figure size 864x576 with 1 Axes>"
      ]
     },
     "metadata": {
      "needs_background": "light"
     },
     "output_type": "display_data"
    }
   ],
   "source": [
    "from xgboost import XGBRegressor\n",
    "selection = XGBRegressor()\n",
    "selection.fit(X_train, y_train)\n",
    "\n",
    "plt.figure(figsize = (12,8))\n",
    "feat_importances = pd.Series(selection.feature_importances_, index=X_train.columns)\n",
    "feat_importances.nlargest(15).plot(kind='barh')\n",
    "plt.show()"
   ]
  },
  {
   "cell_type": "code",
   "execution_count": 4,
   "metadata": {},
   "outputs": [],
   "source": [
    "import numpy as np\n",
    "from sklearn.metrics import r2_score\n",
    "\n",
    "def mape(actual, pred): \n",
    "    actual, pred = np.array(actual), np.array(pred)\n",
    "    return np.mean(np.abs((actual - pred) / actual)) * 100\n",
    "\n",
    "def adj_r2(actual, pred, i):\n",
    "    return 1 - ((1-r2_score(actual,pred))*(len(actual)-1)/(len(actual)-i-1))"
   ]
  },
  {
   "cell_type": "markdown",
   "metadata": {},
   "source": [
    "### Multiple Linear Regression Model"
   ]
  },
  {
   "cell_type": "code",
   "execution_count": 6,
   "metadata": {},
   "outputs": [
    {
     "name": "stdout",
     "output_type": "stream",
     "text": [
      "6 features: \n",
      "RMSE for test set is:  1334.4351663605491\n",
      "RMSE for train set is:  1312.0005646205286\n",
      "Adjusted R2 score for test:  0.6643299370362046\n",
      "Adjusted R2 score for training:  0.6529088698451604\n",
      "MAPE for test:  3.6706271369052024\n",
      "MAPE for training:  3.588827756850176\n",
      " \n",
      "7 features: \n",
      "RMSE for test set is:  1300.6882178212738\n",
      "RMSE for train set is:  1262.77072168028\n",
      "Adjusted R2 score for test:  0.6802773710576812\n",
      "Adjusted R2 score for training:  0.6782653183819731\n",
      "MAPE for test:  3.5669135829457974\n",
      "MAPE for training:  3.468929233965264\n",
      " \n",
      "8 features: \n",
      "RMSE for test set is:  1293.2716795275376\n",
      "RMSE for train set is:  1219.8195938940894\n",
      "Adjusted R2 score for test:  0.6831026204879393\n",
      "Adjusted R2 score for training:  0.6995905070076327\n",
      "MAPE for test:  3.5979526547380694\n",
      "MAPE for training:  3.35274562816408\n",
      " \n",
      "9 features: \n",
      "RMSE for test set is:  1292.3702441383755\n",
      "RMSE for train set is:  1217.3576245624786\n",
      "Adjusted R2 score for test:  0.6827307227733366\n",
      "Adjusted R2 score for training:  0.700613270415194\n",
      "MAPE for test:  3.584042513692378\n",
      "MAPE for training:  3.3474565995764443\n",
      " \n",
      "10 features: \n",
      "RMSE for test set is:  1283.0414811146677\n",
      "RMSE for train set is:  1213.3984117689315\n",
      "Adjusted R2 score for test:  0.6864885623258734\n",
      "Adjusted R2 score for training:  0.7023698339900266\n",
      "MAPE for test:  3.5583858070628875\n",
      "MAPE for training:  3.3294330731163004\n",
      " \n",
      "11 features: \n",
      "RMSE for test set is:  1275.3675647149134\n",
      "RMSE for train set is:  1197.084714891125\n",
      "Adjusted R2 score for test:  0.6894271476094591\n",
      "Adjusted R2 score for training:  0.7101362125177794\n",
      "MAPE for test:  3.5660909606175144\n",
      "MAPE for training:  3.277233016482835\n",
      " \n",
      "12 features: \n",
      "RMSE for test set is:  1237.669039902547\n",
      "RMSE for train set is:  1162.3694075071774\n",
      "Adjusted R2 score for test:  0.7067584745100715\n",
      "Adjusted R2 score for training:  0.7265318224658481\n",
      "MAPE for test:  3.444794421167773\n",
      "MAPE for training:  3.198842882460573\n",
      " \n",
      "13 features: \n",
      "RMSE for test set is:  1237.6690399026315\n",
      "RMSE for train set is:  1162.3694075071771\n",
      "Adjusted R2 score for test:  0.7059968082100574\n",
      "Adjusted R2 score for training:  0.7263589601538798\n",
      "MAPE for test:  3.4447944211676096\n",
      "MAPE for training:  3.198842882460393\n",
      " \n",
      "14 features: \n",
      "RMSE for test set is:  1232.7943879237205\n",
      "RMSE for train set is:  1161.123272347483\n",
      "Adjusted R2 score for test:  0.7075485404140163\n",
      "Adjusted R2 score for training:  0.726772657349337\n",
      "MAPE for test:  3.4267484048710446\n",
      "MAPE for training:  3.196787384345528\n",
      " \n",
      "15 features: \n",
      "RMSE for test set is:  1232.7943879235868\n",
      "RMSE for train set is:  1161.1232723474832\n",
      "Adjusted R2 score for test:  0.7067849595796518\n",
      "Adjusted R2 score for training:  0.7265997286514567\n",
      "MAPE for test:  3.4267484048705015\n",
      "MAPE for training:  3.1967873843454675\n",
      " \n"
     ]
    }
   ],
   "source": [
    "from sklearn.linear_model import LinearRegression\n",
    "\n",
    "LR = LinearRegression()\n",
    "\n",
    "\n",
    "\n",
    "\n",
    "for i in range(6,16):\n",
    "    Xtrain_best = X_train[feat_importances.nlargest(i).index]\n",
    "    LR.fit(Xtrain_best,y_train)\n",
    "    Xtest_best = X_test[feat_importances.nlargest(i).index]\n",
    "    \n",
    "    y_pred= LR.predict(Xtest_best)\n",
    "\n",
    "    y_pred_train = LR.predict(Xtrain_best)\n",
    "    \n",
    "    from sklearn.metrics import mean_squared_error\n",
    "    mse = mean_squared_error(y_test, y_pred)\n",
    "    mse_train = mean_squared_error(y_train, y_pred_train)\n",
    "\n",
    "\n",
    "\n",
    "    from sklearn.metrics import r2_score\n",
    "    print(i,\"features: \")\n",
    "    \n",
    "\n",
    "    print(\"RMSE for test set is: \",(mse**(1/2)))\n",
    "    print(\"RMSE for train set is: \", (mse_train**(1/2)))\n",
    "    \n",
    "    r2_adjtest = adj_r2(y_test, y_pred,i)\n",
    "    r2_adjtrain = adj_r2(y_train, y_pred_train,i)\n",
    "   \n",
    "    print(\"Adjusted R2 score for test: \",r2_adjtest)\n",
    "    print(\"Adjusted R2 score for training: \",r2_adjtrain)\n",
    "    \n",
    "    mape_test = mape(y_test, y_pred)\n",
    "    mape_train = mape(y_train, y_pred_train)\n",
    "    \n",
    "   \n",
    "    print(\"MAPE for test: \",mape_test)\n",
    "    print(\"MAPE for training: \",mape_train)\n",
    "    print(\" \")\n",
    "    "
   ]
  },
  {
   "cell_type": "code",
   "execution_count": 7,
   "metadata": {},
   "outputs": [],
   "source": [
    "#Best result with 12 features"
   ]
  },
  {
   "cell_type": "markdown",
   "metadata": {},
   "source": [
    "### Final Multiple Linear Regression Model"
   ]
  },
  {
   "cell_type": "code",
   "execution_count": 9,
   "metadata": {},
   "outputs": [
    {
     "name": "stdout",
     "output_type": "stream",
     "text": [
      "RMSE for test set is:  1237.669039902547\n",
      "Adjusted R2 score for test:  0.7067584745100715\n",
      "MAPE for test:  3.444794421167773\n"
     ]
    }
   ],
   "source": [
    "Xtrain_best = X_train[feat_importances.nlargest(12).index]\n",
    "LR.fit(Xtrain_best, y_train)\n",
    "Xtest_best = X_test[feat_importances.nlargest(12).index]\n",
    "    \n",
    "y_pred= LR.predict(Xtest_best)\n",
    "\n",
    "\n",
    "    \n",
    "from sklearn.metrics import mean_squared_error\n",
    "mse = mean_squared_error(y_test, y_pred)\n",
    "\n",
    "print(\"RMSE for test set is: \",(mse**(1/2)))\n",
    "  \n",
    "r2_adjtest = adj_r2(y_test, y_pred,12)\n",
    "\n",
    "   \n",
    "print(\"Adjusted R2 score for test: \",r2_adjtest)\n",
    "\n",
    "mape_test = mape(y_test, y_pred)\n",
    "\n",
    "print(\"MAPE for test: \",mape_test)\n"
   ]
  },
  {
   "cell_type": "code",
   "execution_count": 12,
   "metadata": {},
   "outputs": [
    {
     "data": {
      "text/plain": [
       "<Figure size 1440x1440 with 0 Axes>"
      ]
     },
     "metadata": {},
     "output_type": "display_data"
    },
    {
     "data": {
      "image/png": "[encoded data removed]",
      "text/plain": [
       "<Figure size 864x720 with 1 Axes>"
      ]
     },
     "metadata": {
      "needs_background": "light"
     },
     "output_type": "display_data"
    }
   ],
   "source": [
    "\n",
    "plt.figure(figsize= (20,20))\n",
    "df = pd.concat([y_test, pd.DataFrame(y_pred)], axis = 1)\n",
    "df.columns = {\"Actual\",\"Predicted\"}\n",
    "\n",
    "df.head(30).plot(kind='bar',figsize=(12,10),color = {\"dodgerblue\",\"lawngreen\"})\n",
    "plt.title(\"ACtual Demand vs Predicted Demand\")\n",
    "plt.xlabel(\"Observations\")\n",
    "plt.ylabel(\"Demand\")\n",
    "plt.show()\n"
   ]
  }
 ],
 "metadata": {
  "kernelspec": {
   "display_name": "Python 3",
   "language": "python",
   "name": "python3"
  },
  "language_info": {
   "codemirror_mode": {
    "name": "ipython",
    "version": 3
   },
   "file_extension": ".py",
   "mimetype": "text/x-python",
   "name": "python",
   "nbconvert_exporter": "python",
   "pygments_lexer": "ipython3",
   "version": "3.8.3"
  }
 },
 "nbformat": 4,
 "nbformat_minor": 4
}
